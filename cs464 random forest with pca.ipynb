{
 "cells": [
  {
   "cell_type": "code",
   "execution_count": 1,
   "metadata": {},
   "outputs": [],
   "source": [
    "# Creates a playlist of more relevant recommended tracks of a playlist\n",
    "\n",
    "# install Spotipy first\n",
    "#!pip install Spotipy\n",
    "import spotipy\n",
    "import spotipy.util as util\n",
    "from spotipy.oauth2 import SpotifyClientCredentials\n",
    "from spotipy.oauth2 import SpotifyOAuth\n",
    "from spotipy import oauth2\n",
    "import csv\n",
    "import numpy as np\n",
    "from sklearn.pipeline import make_pipeline\n",
    "from sklearn.neighbors import NearestNeighbors\n",
    "from sklearn.preprocessing import StandardScaler"
   ]
  },
  {
   "cell_type": "code",
   "execution_count": 2,
   "metadata": {},
   "outputs": [],
   "source": [
    "import spotipy\n",
    "from spotipy.oauth2 import SpotifyClientCredentials\n",
    "import spotipy.util as util\n",
    "\n",
    "\n",
    "cid ='a611ab78dcf5445ea1d91bf605134cbd' # Client ID; copy this from your app created on beta.developer.spotify.com\n",
    "secret = 'c196412417624657a55c5f71c44fd3b9' # Client Secret; copy this from your app\n",
    "username = 'hpa6zlnetl6hib5bnp1b5laul' # Your Spotify username\n",
    "\n",
    "#for avaliable scopes see https://developer.spotify.com/web-api/using-scopes/\n",
    "scope = 'user-library-read playlist-modify-public playlist-read-private'\n",
    "\n",
    "redirect_uri='https://www.google.com.tr/'\n",
    "\n",
    "client_credentials_manager = SpotifyClientCredentials(client_id=cid, client_secret=secret) \n",
    "\n",
    "sp = spotipy.Spotify(client_credentials_manager=client_credentials_manager)\n",
    "\n",
    "token = util.prompt_for_user_token(username, scope, cid, secret, redirect_uri)\n",
    "\n",
    "if token:\n",
    "    sp = spotipy.Spotify(auth=token)\n",
    "else:\n",
    "    print(\"Can't get token for\", username)"
   ]
  },
  {
   "cell_type": "code",
   "execution_count": 3,
   "metadata": {},
   "outputs": [
    {
     "name": "stdout",
     "output_type": "stream",
     "text": [
      "(169909, 19)\n"
     ]
    },
    {
     "data": {
      "text/html": [
       "<div>\n",
       "<style scoped>\n",
       "    .dataframe tbody tr th:only-of-type {\n",
       "        vertical-align: middle;\n",
       "    }\n",
       "\n",
       "    .dataframe tbody tr th {\n",
       "        vertical-align: top;\n",
       "    }\n",
       "\n",
       "    .dataframe thead th {\n",
       "        text-align: right;\n",
       "    }\n",
       "</style>\n",
       "<table border=\"1\" class=\"dataframe\">\n",
       "  <thead>\n",
       "    <tr style=\"text-align: right;\">\n",
       "      <th></th>\n",
       "      <th>valence</th>\n",
       "      <th>popularity</th>\n",
       "      <th>acousticness</th>\n",
       "      <th>danceability</th>\n",
       "      <th>duration_ms</th>\n",
       "      <th>energy</th>\n",
       "      <th>instrumentalness</th>\n",
       "      <th>key</th>\n",
       "      <th>liveness</th>\n",
       "      <th>loudness</th>\n",
       "      <th>mode</th>\n",
       "      <th>speechiness</th>\n",
       "      <th>tempo</th>\n",
       "    </tr>\n",
       "  </thead>\n",
       "  <tbody>\n",
       "    <tr>\n",
       "      <th>Singende Bataillone 1. Teil</th>\n",
       "      <td>0.779</td>\n",
       "      <td>0</td>\n",
       "      <td>0.995</td>\n",
       "      <td>0.708</td>\n",
       "      <td>158648</td>\n",
       "      <td>0.195</td>\n",
       "      <td>0.563</td>\n",
       "      <td>10</td>\n",
       "      <td>0.151</td>\n",
       "      <td>-12.428</td>\n",
       "      <td>1</td>\n",
       "      <td>0.0506</td>\n",
       "      <td>118.469</td>\n",
       "    </tr>\n",
       "    <tr>\n",
       "      <th>Fantasiestücke, Op. 111: Più tosto lento</th>\n",
       "      <td>0.0767</td>\n",
       "      <td>0</td>\n",
       "      <td>0.994</td>\n",
       "      <td>0.379</td>\n",
       "      <td>282133</td>\n",
       "      <td>0.0135</td>\n",
       "      <td>0.901</td>\n",
       "      <td>8</td>\n",
       "      <td>0.0763</td>\n",
       "      <td>-28.454</td>\n",
       "      <td>1</td>\n",
       "      <td>0.0462</td>\n",
       "      <td>83.97200000000002</td>\n",
       "    </tr>\n",
       "    <tr>\n",
       "      <th>Chapter 1.18 - Zamek kaniowski</th>\n",
       "      <td>0.88</td>\n",
       "      <td>0</td>\n",
       "      <td>0.604</td>\n",
       "      <td>0.7490000000000001</td>\n",
       "      <td>104300</td>\n",
       "      <td>0.22</td>\n",
       "      <td>0.0</td>\n",
       "      <td>5</td>\n",
       "      <td>0.119</td>\n",
       "      <td>-19.924</td>\n",
       "      <td>0</td>\n",
       "      <td>0.929</td>\n",
       "      <td>107.177</td>\n",
       "    </tr>\n",
       "    <tr>\n",
       "      <th>Bebamos Juntos - Instrumental (Remasterizado)</th>\n",
       "      <td>0.72</td>\n",
       "      <td>0</td>\n",
       "      <td>0.995</td>\n",
       "      <td>0.7809999999999999</td>\n",
       "      <td>180760</td>\n",
       "      <td>0.13</td>\n",
       "      <td>0.887</td>\n",
       "      <td>1</td>\n",
       "      <td>0.111</td>\n",
       "      <td>-14.734000000000002</td>\n",
       "      <td>0</td>\n",
       "      <td>0.0926</td>\n",
       "      <td>108.003</td>\n",
       "    </tr>\n",
       "    <tr>\n",
       "      <th>Polonaise-Fantaisie in A-Flat Major, Op. 61</th>\n",
       "      <td>0.0693</td>\n",
       "      <td>1</td>\n",
       "      <td>0.99</td>\n",
       "      <td>0.21</td>\n",
       "      <td>687733</td>\n",
       "      <td>0.204</td>\n",
       "      <td>0.908</td>\n",
       "      <td>11</td>\n",
       "      <td>0.098</td>\n",
       "      <td>-16.829</td>\n",
       "      <td>1</td>\n",
       "      <td>0.0424</td>\n",
       "      <td>62.149</td>\n",
       "    </tr>\n",
       "  </tbody>\n",
       "</table>\n",
       "</div>"
      ],
      "text/plain": [
       "                                              valence popularity acousticness  \\\n",
       "Singende Bataillone 1. Teil                     0.779          0        0.995   \n",
       "Fantasiestücke, Op. 111: Più tosto lento       0.0767          0        0.994   \n",
       "Chapter 1.18 - Zamek kaniowski                   0.88          0        0.604   \n",
       "Bebamos Juntos - Instrumental (Remasterizado)    0.72          0        0.995   \n",
       "Polonaise-Fantaisie in A-Flat Major, Op. 61    0.0693          1         0.99   \n",
       "\n",
       "                                                     danceability duration_ms  \\\n",
       "Singende Bataillone 1. Teil                                 0.708      158648   \n",
       "Fantasiestücke, Op. 111: Più tosto lento                    0.379      282133   \n",
       "Chapter 1.18 - Zamek kaniowski                 0.7490000000000001      104300   \n",
       "Bebamos Juntos - Instrumental (Remasterizado)  0.7809999999999999      180760   \n",
       "Polonaise-Fantaisie in A-Flat Major, Op. 61                  0.21      687733   \n",
       "\n",
       "                                               energy instrumentalness key  \\\n",
       "Singende Bataillone 1. Teil                     0.195            0.563  10   \n",
       "Fantasiestücke, Op. 111: Più tosto lento       0.0135            0.901   8   \n",
       "Chapter 1.18 - Zamek kaniowski                   0.22              0.0   5   \n",
       "Bebamos Juntos - Instrumental (Remasterizado)    0.13            0.887   1   \n",
       "Polonaise-Fantaisie in A-Flat Major, Op. 61     0.204            0.908  11   \n",
       "\n",
       "                                              liveness             loudness  \\\n",
       "Singende Bataillone 1. Teil                      0.151              -12.428   \n",
       "Fantasiestücke, Op. 111: Più tosto lento        0.0763              -28.454   \n",
       "Chapter 1.18 - Zamek kaniowski                   0.119              -19.924   \n",
       "Bebamos Juntos - Instrumental (Remasterizado)    0.111  -14.734000000000002   \n",
       "Polonaise-Fantaisie in A-Flat Major, Op. 61      0.098              -16.829   \n",
       "\n",
       "                                              mode speechiness  \\\n",
       "Singende Bataillone 1. Teil                      1      0.0506   \n",
       "Fantasiestücke, Op. 111: Più tosto lento         1      0.0462   \n",
       "Chapter 1.18 - Zamek kaniowski                   0       0.929   \n",
       "Bebamos Juntos - Instrumental (Remasterizado)    0      0.0926   \n",
       "Polonaise-Fantaisie in A-Flat Major, Op. 61      1      0.0424   \n",
       "\n",
       "                                                           tempo  \n",
       "Singende Bataillone 1. Teil                              118.469  \n",
       "Fantasiestücke, Op. 111: Più tosto lento       83.97200000000002  \n",
       "Chapter 1.18 - Zamek kaniowski                           107.177  \n",
       "Bebamos Juntos - Instrumental (Remasterizado)            108.003  \n",
       "Polonaise-Fantaisie in A-Flat Major, Op. 61               62.149  "
      ]
     },
     "execution_count": 3,
     "metadata": {},
     "output_type": "execute_result"
    }
   ],
   "source": [
    "import pandas as pd\n",
    "\n",
    "dataset_path = \"data.csv\"\n",
    "with open(dataset_path, 'r', encoding=\"utf8\") as token_file:\n",
    "    lines = csv.reader(token_file)\n",
    "    dataset = list(lines)\n",
    "    data = np.array(dataset)\n",
    "data = data[1:, :]\n",
    "print(data.shape)\n",
    "song_valence = data[:, 17]\n",
    "song_acousticness = data[:, 0]\n",
    "song_artists = data[:, 1]\n",
    "song_danceability = data[:, 2]\n",
    "\n",
    "song_duration_ms = data[:, 3]\n",
    "song_energy = data[:, 4]\n",
    "song_id = data[:, 6]\n",
    "song_popularity = data[:, 13]\n",
    "\n",
    "song_instrumentalness = data[:, 7]\n",
    "song_key = data[:, 8]\n",
    "song_liveness = data[:, 9]\n",
    "song_loudness = data[:, 10]\n",
    "\n",
    "song_mode = data[:, 11]\n",
    "song_name = data[:, 12]\n",
    "song_speechiness = data[:, 15]\n",
    "song_tempo = data[:, 16]\n",
    "\n",
    "song_info = {'name': [], 'id': [], 'artists': []}\n",
    "features_dict = {'valence': [], 'popularity': [], 'acousticness': [], 'danceability': [], 'duration_ms': [], 'energy': [], 'instrumentalness': [], 'key': [], 'liveness': [], 'loudness': [], 'mode': [], 'speechiness': [], 'tempo': []}\n",
    "for i in range(0, data.shape[0]):\n",
    "    song_info['name'].append(song_name[i])\n",
    "    song_info['id'].append(song_id[i])\n",
    "    song_info['artists'].append(song_artists[i])\n",
    "    features_dict['valence'].append(song_valence[i])\n",
    "    features_dict['acousticness'].append(song_acousticness[i])\n",
    "    features_dict['danceability'].append(song_danceability[i])\n",
    "    features_dict['duration_ms'].append(song_duration_ms[i])\n",
    "    features_dict['popularity'].append(song_popularity[i])\n",
    "    features_dict['energy'].append(song_energy[i])\n",
    "    features_dict['instrumentalness'].append(song_instrumentalness[i])\n",
    "    features_dict['key'].append(song_key[i])\n",
    "    features_dict['liveness'].append(song_liveness[i])\n",
    "    features_dict['loudness'].append(song_loudness[i])\n",
    "    features_dict['mode'].append(song_mode[i])\n",
    "    features_dict['speechiness'].append(song_speechiness[i])\n",
    "    features_dict['tempo'].append(song_tempo[i])\n",
    "playlist_df = pd.DataFrame(features_dict, index = song_info['name'])\n",
    "playlist_df.head()"
   ]
  },
  {
   "cell_type": "code",
   "execution_count": 17,
   "metadata": {},
   "outputs": [
    {
     "name": "stdout",
     "output_type": "stream",
     "text": [
      "{'danceability': 0.564, 'energy': 0.71, 'key': 11, 'loudness': -4.92, 'mode': 0, 'speechiness': 0.0461, 'acousticness': 0.00125, 'instrumentalness': 0, 'liveness': 0.109, 'valence': 0.393, 'tempo': 91.972, 'type': 'audio_features', 'id': '6O20JhBJPePEkBdrB5sqRx', 'uri': 'spotify:track:6O20JhBJPePEkBdrB5sqRx', 'track_href': 'https://api.spotify.com/v1/tracks/6O20JhBJPePEkBdrB5sqRx', 'analysis_url': 'https://api.spotify.com/v1/audio-analysis/6O20JhBJPePEkBdrB5sqRx', 'duration_ms': 225147, 'time_signature': 4}\n"
     ]
    }
   ],
   "source": [
    "#Create a dataframe of your playlist including tracks' names and audio features\n",
    "sourcePlaylistID = '5TplGaik7PSSBqH6eRRE8E'\n",
    "sourcePlaylist = sp.user_playlist(username, sourcePlaylistID);\n",
    "tracks = sourcePlaylist[\"tracks\"];\n",
    "songs = tracks[\"items\"];\n",
    "\n",
    "track_ids = []\n",
    "track_names = []\n",
    "\n",
    "for i in range(0, len(songs)):\n",
    "    if songs[i]['track']['id'] != None: # Removes the local tracks in your playlist if there is any\n",
    "        track_ids.append(songs[i]['track']['id'])\n",
    "        track_names.append(songs[i]['track']['name'])\n",
    "\n",
    "features = []\n",
    "for i in range(0,len(track_ids)):\n",
    "    audio_features = sp.audio_features(track_ids[i])\n",
    "    tr = sp.track(track_ids[i])['popularity']\n",
    "    for track in audio_features:\n",
    "        print(track)\n",
    "        features.append(track)\n",
    "#print(features)\n",
    "playlist_df = pd.DataFrame(features, index = track_names)"
   ]
  },
  {
   "cell_type": "code",
   "execution_count": 5,
   "metadata": {
    "scrolled": true
   },
   "outputs": [
    {
     "data": {
      "text/html": [
       "<div>\n",
       "<style scoped>\n",
       "    .dataframe tbody tr th:only-of-type {\n",
       "        vertical-align: middle;\n",
       "    }\n",
       "\n",
       "    .dataframe tbody tr th {\n",
       "        vertical-align: top;\n",
       "    }\n",
       "\n",
       "    .dataframe thead th {\n",
       "        text-align: right;\n",
       "    }\n",
       "</style>\n",
       "<table border=\"1\" class=\"dataframe\">\n",
       "  <thead>\n",
       "    <tr style=\"text-align: right;\">\n",
       "      <th></th>\n",
       "      <th>danceability</th>\n",
       "      <th>energy</th>\n",
       "      <th>key</th>\n",
       "      <th>loudness</th>\n",
       "      <th>mode</th>\n",
       "      <th>speechiness</th>\n",
       "      <th>acousticness</th>\n",
       "      <th>instrumentalness</th>\n",
       "      <th>liveness</th>\n",
       "      <th>valence</th>\n",
       "      <th>tempo</th>\n",
       "      <th>type</th>\n",
       "      <th>id</th>\n",
       "      <th>uri</th>\n",
       "      <th>track_href</th>\n",
       "      <th>analysis_url</th>\n",
       "      <th>duration_ms</th>\n",
       "      <th>time_signature</th>\n",
       "    </tr>\n",
       "  </thead>\n",
       "  <tbody>\n",
       "    <tr>\n",
       "      <th>Diamonds</th>\n",
       "      <td>0.564</td>\n",
       "      <td>0.71</td>\n",
       "      <td>11</td>\n",
       "      <td>-4.92</td>\n",
       "      <td>0</td>\n",
       "      <td>0.0461</td>\n",
       "      <td>0.00125</td>\n",
       "      <td>0</td>\n",
       "      <td>0.109</td>\n",
       "      <td>0.393</td>\n",
       "      <td>91.972</td>\n",
       "      <td>audio_features</td>\n",
       "      <td>6O20JhBJPePEkBdrB5sqRx</td>\n",
       "      <td>spotify:track:6O20JhBJPePEkBdrB5sqRx</td>\n",
       "      <td>https://api.spotify.com/v1/tracks/6O20JhBJPePE...</td>\n",
       "      <td>https://api.spotify.com/v1/audio-analysis/6O20...</td>\n",
       "      <td>225147</td>\n",
       "      <td>4</td>\n",
       "    </tr>\n",
       "  </tbody>\n",
       "</table>\n",
       "</div>"
      ],
      "text/plain": [
       "          danceability  energy  key  loudness  mode  speechiness  \\\n",
       "Diamonds         0.564    0.71   11     -4.92     0       0.0461   \n",
       "\n",
       "          acousticness  instrumentalness  liveness  valence   tempo  \\\n",
       "Diamonds       0.00125                 0     0.109    0.393  91.972   \n",
       "\n",
       "                    type                      id  \\\n",
       "Diamonds  audio_features  6O20JhBJPePEkBdrB5sqRx   \n",
       "\n",
       "                                           uri  \\\n",
       "Diamonds  spotify:track:6O20JhBJPePEkBdrB5sqRx   \n",
       "\n",
       "                                                 track_href  \\\n",
       "Diamonds  https://api.spotify.com/v1/tracks/6O20JhBJPePE...   \n",
       "\n",
       "                                               analysis_url  duration_ms  \\\n",
       "Diamonds  https://api.spotify.com/v1/audio-analysis/6O20...       225147   \n",
       "\n",
       "          time_signature  \n",
       "Diamonds               4  "
      ]
     },
     "execution_count": 5,
     "metadata": {},
     "output_type": "execute_result"
    }
   ],
   "source": [
    "playlist_df.head()"
   ]
  },
  {
   "cell_type": "code",
   "execution_count": 6,
   "metadata": {
    "scrolled": true
   },
   "outputs": [],
   "source": [
    "#playlist_df=playlist_df[[\"id\", \"acousticness\", \"danceability\", \"duration_ms\", \n",
    "#                         \"energy\", \"instrumentalness\",  \"key\", \"liveness\",\n",
    "#                         \"loudness\", \"mode\", \"speechiness\", \"tempo\", \"valence\"]]\n",
    "#playlist_df.head()"
   ]
  },
  {
   "cell_type": "code",
   "execution_count": 7,
   "metadata": {},
   "outputs": [],
   "source": [
    "#from sklearn.feature_extraction.text import TfidfVectorizer\n",
    "\n",
    "#v=TfidfVectorizer(sublinear_tf=True, ngram_range=(1, 6), max_features=10000)\n",
    "#X_names_sparse = v.fit_transform(track_names)\n",
    "#X_names_sparse.shape"
   ]
  },
  {
   "cell_type": "code",
   "execution_count": 9,
   "metadata": {},
   "outputs": [
    {
     "ename": "KeyError",
     "evalue": "'popularity'",
     "output_type": "error",
     "traceback": [
      "\u001b[1;31m---------------------------------------------------------------------------\u001b[0m",
      "\u001b[1;31mKeyError\u001b[0m                                  Traceback (most recent call last)",
      "\u001b[1;32m~\\anaconda3\\lib\\site-packages\\pandas\\core\\indexes\\base.py\u001b[0m in \u001b[0;36mget_loc\u001b[1;34m(self, key, method, tolerance)\u001b[0m\n\u001b[0;32m   2645\u001b[0m             \u001b[1;32mtry\u001b[0m\u001b[1;33m:\u001b[0m\u001b[1;33m\u001b[0m\u001b[1;33m\u001b[0m\u001b[0m\n\u001b[1;32m-> 2646\u001b[1;33m                 \u001b[1;32mreturn\u001b[0m \u001b[0mself\u001b[0m\u001b[1;33m.\u001b[0m\u001b[0m_engine\u001b[0m\u001b[1;33m.\u001b[0m\u001b[0mget_loc\u001b[0m\u001b[1;33m(\u001b[0m\u001b[0mkey\u001b[0m\u001b[1;33m)\u001b[0m\u001b[1;33m\u001b[0m\u001b[1;33m\u001b[0m\u001b[0m\n\u001b[0m\u001b[0;32m   2647\u001b[0m             \u001b[1;32mexcept\u001b[0m \u001b[0mKeyError\u001b[0m\u001b[1;33m:\u001b[0m\u001b[1;33m\u001b[0m\u001b[1;33m\u001b[0m\u001b[0m\n",
      "\u001b[1;32mpandas\\_libs\\index.pyx\u001b[0m in \u001b[0;36mpandas._libs.index.IndexEngine.get_loc\u001b[1;34m()\u001b[0m\n",
      "\u001b[1;32mpandas\\_libs\\index.pyx\u001b[0m in \u001b[0;36mpandas._libs.index.IndexEngine.get_loc\u001b[1;34m()\u001b[0m\n",
      "\u001b[1;32mpandas\\_libs\\hashtable_class_helper.pxi\u001b[0m in \u001b[0;36mpandas._libs.hashtable.PyObjectHashTable.get_item\u001b[1;34m()\u001b[0m\n",
      "\u001b[1;32mpandas\\_libs\\hashtable_class_helper.pxi\u001b[0m in \u001b[0;36mpandas._libs.hashtable.PyObjectHashTable.get_item\u001b[1;34m()\u001b[0m\n",
      "\u001b[1;31mKeyError\u001b[0m: 'popularity'",
      "\nDuring handling of the above exception, another exception occurred:\n",
      "\u001b[1;31mKeyError\u001b[0m                                  Traceback (most recent call last)",
      "\u001b[1;32m<ipython-input-9-847d76c542f8>\u001b[0m in \u001b[0;36m<module>\u001b[1;34m\u001b[0m\n\u001b[0;32m     11\u001b[0m \u001b[0minput_\u001b[0m\u001b[1;33m[\u001b[0m\u001b[1;36m1\u001b[0m\u001b[1;33m]\u001b[0m \u001b[1;33m=\u001b[0m \u001b[0mplaylist_df\u001b[0m\u001b[1;33m[\u001b[0m\u001b[1;34m'acousticness'\u001b[0m\u001b[1;33m]\u001b[0m\u001b[1;33m[\u001b[0m\u001b[1;36m0\u001b[0m\u001b[1;33m]\u001b[0m\u001b[1;33m\u001b[0m\u001b[1;33m\u001b[0m\u001b[0m\n\u001b[0;32m     12\u001b[0m \u001b[0minput_\u001b[0m\u001b[1;33m[\u001b[0m\u001b[1;36m2\u001b[0m\u001b[1;33m]\u001b[0m \u001b[1;33m=\u001b[0m \u001b[0mplaylist_df\u001b[0m\u001b[1;33m[\u001b[0m\u001b[1;34m'danceability'\u001b[0m\u001b[1;33m]\u001b[0m\u001b[1;33m[\u001b[0m\u001b[1;36m0\u001b[0m\u001b[1;33m]\u001b[0m\u001b[1;33m\u001b[0m\u001b[1;33m\u001b[0m\u001b[0m\n\u001b[1;32m---> 13\u001b[1;33m \u001b[0minput_\u001b[0m\u001b[1;33m[\u001b[0m\u001b[1;36m3\u001b[0m\u001b[1;33m]\u001b[0m \u001b[1;33m=\u001b[0m \u001b[0mplaylist_df\u001b[0m\u001b[1;33m[\u001b[0m\u001b[1;34m'popularity'\u001b[0m\u001b[1;33m]\u001b[0m\u001b[1;33m[\u001b[0m\u001b[1;36m0\u001b[0m\u001b[1;33m]\u001b[0m\u001b[1;33m\u001b[0m\u001b[1;33m\u001b[0m\u001b[0m\n\u001b[0m\u001b[0;32m     14\u001b[0m \u001b[0minput_\u001b[0m\u001b[1;33m[\u001b[0m\u001b[1;36m4\u001b[0m\u001b[1;33m]\u001b[0m \u001b[1;33m=\u001b[0m \u001b[0mplaylist_df\u001b[0m\u001b[1;33m[\u001b[0m\u001b[1;34m'energy'\u001b[0m\u001b[1;33m]\u001b[0m\u001b[1;33m[\u001b[0m\u001b[1;36m0\u001b[0m\u001b[1;33m]\u001b[0m\u001b[1;33m\u001b[0m\u001b[1;33m\u001b[0m\u001b[0m\n\u001b[0;32m     15\u001b[0m \u001b[0minput_\u001b[0m\u001b[1;33m[\u001b[0m\u001b[1;36m5\u001b[0m\u001b[1;33m]\u001b[0m \u001b[1;33m=\u001b[0m \u001b[0mplaylist_df\u001b[0m\u001b[1;33m[\u001b[0m\u001b[1;34m'instrumentalness'\u001b[0m\u001b[1;33m]\u001b[0m\u001b[1;33m[\u001b[0m\u001b[1;36m0\u001b[0m\u001b[1;33m]\u001b[0m\u001b[1;33m\u001b[0m\u001b[1;33m\u001b[0m\u001b[0m\n",
      "\u001b[1;32m~\\anaconda3\\lib\\site-packages\\pandas\\core\\frame.py\u001b[0m in \u001b[0;36m__getitem__\u001b[1;34m(self, key)\u001b[0m\n\u001b[0;32m   2798\u001b[0m             \u001b[1;32mif\u001b[0m \u001b[0mself\u001b[0m\u001b[1;33m.\u001b[0m\u001b[0mcolumns\u001b[0m\u001b[1;33m.\u001b[0m\u001b[0mnlevels\u001b[0m \u001b[1;33m>\u001b[0m \u001b[1;36m1\u001b[0m\u001b[1;33m:\u001b[0m\u001b[1;33m\u001b[0m\u001b[1;33m\u001b[0m\u001b[0m\n\u001b[0;32m   2799\u001b[0m                 \u001b[1;32mreturn\u001b[0m \u001b[0mself\u001b[0m\u001b[1;33m.\u001b[0m\u001b[0m_getitem_multilevel\u001b[0m\u001b[1;33m(\u001b[0m\u001b[0mkey\u001b[0m\u001b[1;33m)\u001b[0m\u001b[1;33m\u001b[0m\u001b[1;33m\u001b[0m\u001b[0m\n\u001b[1;32m-> 2800\u001b[1;33m             \u001b[0mindexer\u001b[0m \u001b[1;33m=\u001b[0m \u001b[0mself\u001b[0m\u001b[1;33m.\u001b[0m\u001b[0mcolumns\u001b[0m\u001b[1;33m.\u001b[0m\u001b[0mget_loc\u001b[0m\u001b[1;33m(\u001b[0m\u001b[0mkey\u001b[0m\u001b[1;33m)\u001b[0m\u001b[1;33m\u001b[0m\u001b[1;33m\u001b[0m\u001b[0m\n\u001b[0m\u001b[0;32m   2801\u001b[0m             \u001b[1;32mif\u001b[0m \u001b[0mis_integer\u001b[0m\u001b[1;33m(\u001b[0m\u001b[0mindexer\u001b[0m\u001b[1;33m)\u001b[0m\u001b[1;33m:\u001b[0m\u001b[1;33m\u001b[0m\u001b[1;33m\u001b[0m\u001b[0m\n\u001b[0;32m   2802\u001b[0m                 \u001b[0mindexer\u001b[0m \u001b[1;33m=\u001b[0m \u001b[1;33m[\u001b[0m\u001b[0mindexer\u001b[0m\u001b[1;33m]\u001b[0m\u001b[1;33m\u001b[0m\u001b[1;33m\u001b[0m\u001b[0m\n",
      "\u001b[1;32m~\\anaconda3\\lib\\site-packages\\pandas\\core\\indexes\\base.py\u001b[0m in \u001b[0;36mget_loc\u001b[1;34m(self, key, method, tolerance)\u001b[0m\n\u001b[0;32m   2646\u001b[0m                 \u001b[1;32mreturn\u001b[0m \u001b[0mself\u001b[0m\u001b[1;33m.\u001b[0m\u001b[0m_engine\u001b[0m\u001b[1;33m.\u001b[0m\u001b[0mget_loc\u001b[0m\u001b[1;33m(\u001b[0m\u001b[0mkey\u001b[0m\u001b[1;33m)\u001b[0m\u001b[1;33m\u001b[0m\u001b[1;33m\u001b[0m\u001b[0m\n\u001b[0;32m   2647\u001b[0m             \u001b[1;32mexcept\u001b[0m \u001b[0mKeyError\u001b[0m\u001b[1;33m:\u001b[0m\u001b[1;33m\u001b[0m\u001b[1;33m\u001b[0m\u001b[0m\n\u001b[1;32m-> 2648\u001b[1;33m                 \u001b[1;32mreturn\u001b[0m \u001b[0mself\u001b[0m\u001b[1;33m.\u001b[0m\u001b[0m_engine\u001b[0m\u001b[1;33m.\u001b[0m\u001b[0mget_loc\u001b[0m\u001b[1;33m(\u001b[0m\u001b[0mself\u001b[0m\u001b[1;33m.\u001b[0m\u001b[0m_maybe_cast_indexer\u001b[0m\u001b[1;33m(\u001b[0m\u001b[0mkey\u001b[0m\u001b[1;33m)\u001b[0m\u001b[1;33m)\u001b[0m\u001b[1;33m\u001b[0m\u001b[1;33m\u001b[0m\u001b[0m\n\u001b[0m\u001b[0;32m   2649\u001b[0m         \u001b[0mindexer\u001b[0m \u001b[1;33m=\u001b[0m \u001b[0mself\u001b[0m\u001b[1;33m.\u001b[0m\u001b[0mget_indexer\u001b[0m\u001b[1;33m(\u001b[0m\u001b[1;33m[\u001b[0m\u001b[0mkey\u001b[0m\u001b[1;33m]\u001b[0m\u001b[1;33m,\u001b[0m \u001b[0mmethod\u001b[0m\u001b[1;33m=\u001b[0m\u001b[0mmethod\u001b[0m\u001b[1;33m,\u001b[0m \u001b[0mtolerance\u001b[0m\u001b[1;33m=\u001b[0m\u001b[0mtolerance\u001b[0m\u001b[1;33m)\u001b[0m\u001b[1;33m\u001b[0m\u001b[1;33m\u001b[0m\u001b[0m\n\u001b[0;32m   2650\u001b[0m         \u001b[1;32mif\u001b[0m \u001b[0mindexer\u001b[0m\u001b[1;33m.\u001b[0m\u001b[0mndim\u001b[0m \u001b[1;33m>\u001b[0m \u001b[1;36m1\u001b[0m \u001b[1;32mor\u001b[0m \u001b[0mindexer\u001b[0m\u001b[1;33m.\u001b[0m\u001b[0msize\u001b[0m \u001b[1;33m>\u001b[0m \u001b[1;36m1\u001b[0m\u001b[1;33m:\u001b[0m\u001b[1;33m\u001b[0m\u001b[1;33m\u001b[0m\u001b[0m\n",
      "\u001b[1;32mpandas\\_libs\\index.pyx\u001b[0m in \u001b[0;36mpandas._libs.index.IndexEngine.get_loc\u001b[1;34m()\u001b[0m\n",
      "\u001b[1;32mpandas\\_libs\\index.pyx\u001b[0m in \u001b[0;36mpandas._libs.index.IndexEngine.get_loc\u001b[1;34m()\u001b[0m\n",
      "\u001b[1;32mpandas\\_libs\\hashtable_class_helper.pxi\u001b[0m in \u001b[0;36mpandas._libs.hashtable.PyObjectHashTable.get_item\u001b[1;34m()\u001b[0m\n",
      "\u001b[1;32mpandas\\_libs\\hashtable_class_helper.pxi\u001b[0m in \u001b[0;36mpandas._libs.hashtable.PyObjectHashTable.get_item\u001b[1;34m()\u001b[0m\n",
      "\u001b[1;31mKeyError\u001b[0m: 'popularity'"
     ]
    }
   ],
   "source": [
    "## Change the below info for each playlist manually to get better results\n",
    "# Give ratings to your tracks with respect to their playlist relevances\n",
    "# Rate them from 1-10, give higher ratings to those tracks which you think best chracterizes your playlist\n",
    "# If you order your playlist by relevance while creating it, this step will become easier\n",
    "# So now, we will deal with a classification task\n",
    "\n",
    "features_array = np.zeros((data.shape[0]+1, 11))\n",
    "\n",
    "input_ = np.zeros((11))\n",
    "input_[0] = playlist_df['valence'][0]\n",
    "input_[1] = playlist_df['acousticness'][0]\n",
    "input_[2] = playlist_df['danceability'][0]\n",
    "input_[3] = playlist_df['popularity'][0]\n",
    "input_[4] = playlist_df['energy'][0]\n",
    "input_[5] = playlist_df['instrumentalness'][0]\n",
    "input_[6] = playlist_df['liveness'][0]\n",
    "input_[7] = playlist_df['loudness'][0]\n",
    "input_[8] = playlist_df['mode'][0]\n",
    "input_[9] = playlist_df['speechiness'][0]\n",
    "input_[10] = playlist_df['tempo'][0]\n",
    "\n",
    "features_array[data.shape[0], :] = input_\n",
    "\n",
    "features_array[:data.shape[0],0] = np.array(features_dict['valence']).T\n",
    "features_array[:data.shape[0],1] = np.array(features_dict['acousticness']).T\n",
    "features_array[:data.shape[0],2] = np.array(features_dict['danceability']).T\n",
    "features_array[:data.shape[0],3] = np.array(features_dict['popularity']).T\n",
    "features_array[:data.shape[0],4] = np.array(features_dict['energy']).T\n",
    "features_array[:data.shape[0],5] = np.array(features_dict['instrumentalness']).T\n",
    "features_array[:data.shape[0],6] = np.array(features_dict['liveness']).T\n",
    "features_array[:data.shape[0],7] = np.array(features_dict['loudness']).T\n",
    "features_array[:data.shape[0],8] = np.array(features_dict['mode']).T\n",
    "features_array[:data.shape[0],9] = np.array(features_dict['speechiness']).T\n",
    "features_array[:data.shape[0],10] = np.array(features_dict['tempo']).T\n",
    "\n",
    "features_array = features_array.astype('float64')\n",
    "\n",
    "model = NearestNeighbors(n_neighbors = 1000, algorithm = 'ball_tree')\n",
    "\n",
    "scalar = StandardScaler()\n",
    "scalar.fit(features_array)\n",
    "features_array = scalar.transform(features_array)\n",
    "input_2 = features_array[data.shape[0], :]\n",
    "features_array = features_array[:data.shape[0], :]\n",
    "model.fit(features_array)\n",
    "\n",
    "#scalar2 = StandardScaler()\n",
    "#scalar2.fit([input_])\n",
    "#input_2 = scalar2.transform([input_])\n",
    "\n",
    "\n",
    "print(features_array.shape)\n",
    "\n",
    "distances, indices = model.kneighbors([input_2])\n",
    "recorded_indices = indices\n",
    "print(distances[0, :10])\n",
    "print(distances[0, 990:])\n",
    "\n",
    "closest_1000_point = {'valence': [], 'popularity': [], 'mode': [], 'acousticness': [], 'danceability': [], 'energy': [], 'instrumentalness': [], 'liveness': [], 'loudness': [], 'speechiness': [], 'tempo': [], 'ratings': []}\n",
    "\n",
    "for i in range(0, 1000):\n",
    "    closest_1000_point['valence'].append(features_array[indices[0, i], 0])\n",
    "    closest_1000_point['acousticness'].append(features_array[indices[0, i], 1])\n",
    "    closest_1000_point['danceability'].append(features_array[indices[0, i], 2])\n",
    "    closest_1000_point['popularity'].append(features_array[indices[0, i], 3])\n",
    "    closest_1000_point['energy'].append(features_array[indices[0, i], 4])\n",
    "    closest_1000_point['instrumentalness'].append(features_array[indices[0, i], 5])\n",
    "    closest_1000_point['liveness'].append(features_array[indices[0, i], 6])\n",
    "    closest_1000_point['loudness'].append(features_array[indices[0, i], 7])\n",
    "    closest_1000_point['mode'].append(features_array[indices[0, i], 8])\n",
    "    closest_1000_point['speechiness'].append(features_array[indices[0, i], 9])\n",
    "    closest_1000_point['tempo'].append(features_array[indices[0, i], 10])\n",
    "    \n",
    "    rem = i // 100\n",
    "    closest_1000_point['ratings'].append(10-rem)\n",
    "#playlist_df['ratings']=[10, 9, 9, 10, 8, 6, 8, 6, 4, 3, 6, 9]\n",
    "#playlist_df.head()\n",
    "playlist_df = pd.DataFrame(closest_1000_point)\n",
    "playlist_df.head()"
   ]
  },
  {
   "cell_type": "code",
   "execution_count": 9,
   "metadata": {},
   "outputs": [
    {
     "name": "stderr",
     "output_type": "stream",
     "text": [
      "C:\\Users\\semra\\anaconda3\\lib\\site-packages\\sklearn\\utils\\deprecation.py:143: FutureWarning: The sklearn.ensemble.forest module is  deprecated in version 0.22 and will be removed in version 0.24. The corresponding classes / functions should instead be imported from sklearn.ensemble. Anything that cannot be imported from sklearn.ensemble is now part of the private API.\n",
      "  warnings.warn(message, FutureWarning)\n"
     ]
    },
    {
     "name": "stdout",
     "output_type": "stream",
     "text": [
      "Feature ranking:\n",
      "1. danceability 0.175122 \n",
      "2. energy 0.150699 \n",
      "3. valence 0.148764 \n",
      "4. tempo 0.114427 \n",
      "5. liveness 0.096751 \n",
      "6. acousticness 0.093164 \n",
      "7. loudness 0.090102 \n",
      "8. speechiness 0.082329 \n",
      "9. instrumentalness 0.048643 \n"
     ]
    }
   ],
   "source": [
    "# Analyze feature importances\n",
    "from sklearn.ensemble.forest import RandomForestRegressor, RandomForestClassifier\n",
    "\n",
    "X_train = playlist_df.drop(['ratings'], axis=1)\n",
    "y_train = playlist_df['ratings']\n",
    "forest = RandomForestClassifier(random_state=42, max_depth=5, max_features=11) # Set by GridSearchCV below\n",
    "forest.fit(X_train, y_train)\n",
    "importances = forest.feature_importances_\n",
    "indices = np.argsort(importances)[::-1]\n",
    "\n",
    "# Print the feature rankings\n",
    "print(\"Feature ranking:\")\n",
    "  \n",
    "for f in range(len(importances)):\n",
    "    print(\"%d. %s %f \" % (f + 1, \n",
    "            X_train.columns[indices[f]], \n",
    "            importances[indices[f]]))\n"
   ]
  },
  {
   "cell_type": "code",
   "execution_count": 10,
   "metadata": {},
   "outputs": [
    {
     "name": "stdout",
     "output_type": "stream",
     "text": [
      "(1000, 9)\n"
     ]
    },
    {
     "data": {
      "image/png": "[encoded data removed]",
      "text/plain": [
       "<Figure size 720x504 with 1 Axes>"
      ]
     },
     "metadata": {
      "image/png": {
       "height": 429,
       "width": 618
      },
      "needs_background": "light"
     },
     "output_type": "display_data"
    }
   ],
   "source": [
    "# Apply pca to the scaled train set first\n",
    "\n",
    "from sklearn import decomposition\n",
    "from sklearn.preprocessing import StandardScaler\n",
    "import matplotlib.pyplot as plt\n",
    "import seaborn as sns; sns.set(style='white')\n",
    "%matplotlib inline\n",
    "%config InlineBackend.figure_format = 'retina'\n",
    "\n",
    "X_scaled = StandardScaler().fit_transform(X_train)\n",
    "print(X_scaled.shape)\n",
    "pca = decomposition.PCA().fit(X_scaled)\n",
    "\n",
    "plt.figure(figsize=(10,7))\n",
    "plt.plot(np.cumsum(pca.explained_variance_ratio_), color='k', lw=2)\n",
    "plt.xlabel('Number of components')\n",
    "plt.ylabel('Total explained variance')\n",
    "plt.xlim(0, 12)\n",
    "plt.yticks(np.arange(0, 1.1, 0.1))\n",
    "plt.axvline(8, c='b') # Tune this so that you obtain at least a 95% total variance explained\n",
    "plt.axhline(0.95, c='r')\n",
    "plt.show();"
   ]
  },
  {
   "cell_type": "code",
   "execution_count": 13,
   "metadata": {},
   "outputs": [
    {
     "name": "stdout",
     "output_type": "stream",
     "text": [
      "(1000, 8)\n"
     ]
    }
   ],
   "source": [
    "# Fit your dataset to the optimal pca\n",
    "pca1 = decomposition.PCA(n_components=8)\n",
    "X_pca = pca1.fit_transform(X_scaled)\n",
    "print(X_pca.shape)"
   ]
  },
  {
   "cell_type": "code",
   "execution_count": 11,
   "metadata": {},
   "outputs": [],
   "source": [
    "# You may want to check the results of TSNE also\n",
    "#from sklearn.manifold import TSNE\n",
    "\n",
    "#tsne = TSNE(random_state=17)\n",
    "#X_tsne = tsne.fit_transform(X_scaled)\n",
    "#print(X_tsne.shape)"
   ]
  },
  {
   "cell_type": "code",
   "execution_count": 12,
   "metadata": {},
   "outputs": [],
   "source": [
    "#from scipy.sparse import csr_matrix, hstack\n",
    "\n",
    "#X_train_last = csr_matrix(hstack([X_pca, X_names_sparse])) # Check with X_tsne + X_names_sparse also"
   ]
  },
  {
   "cell_type": "code",
   "execution_count": 13,
   "metadata": {},
   "outputs": [
    {
     "name": "stdout",
     "output_type": "stream",
     "text": [
      "Fitting 5 folds for each of 80 candidates, totalling 400 fits\n"
     ]
    },
    {
     "name": "stderr",
     "output_type": "stream",
     "text": [
      "[Parallel(n_jobs=-1)]: Using backend LokyBackend with 4 concurrent workers.\n",
      "[Parallel(n_jobs=-1)]: Done  68 tasks      | elapsed:    2.1s\n",
      "[Parallel(n_jobs=-1)]: Done 400 out of 400 | elapsed:    2.5s finished\n",
      "[Parallel(n_jobs=-1)]: Using backend LokyBackend with 4 concurrent workers.\n"
     ]
    },
    {
     "name": "stdout",
     "output_type": "stream",
     "text": [
      "DecisionTreeClassifier(max_depth=9, max_features=7)\n",
      "0.1975\n",
      "Fitting 5 folds for each of 80 candidates, totalling 400 fits\n"
     ]
    },
    {
     "name": "stderr",
     "output_type": "stream",
     "text": [
      "[Parallel(n_jobs=-1)]: Done 281 tasks      | elapsed:    0.3s\n",
      "[Parallel(n_jobs=-1)]: Done 400 out of 400 | elapsed:    0.4s finished\n",
      "[Parallel(n_jobs=-1)]: Using backend LokyBackend with 4 concurrent workers.\n"
     ]
    },
    {
     "name": "stdout",
     "output_type": "stream",
     "text": [
      "DecisionTreeClassifier(max_depth=10, max_features=7)\n",
      "0.1875\n",
      "Fitting 5 folds for each of 80 candidates, totalling 400 fits\n"
     ]
    },
    {
     "name": "stderr",
     "output_type": "stream",
     "text": [
      "[Parallel(n_jobs=-1)]: Done 312 tasks      | elapsed:    0.3s\n",
      "[Parallel(n_jobs=-1)]: Done 400 out of 400 | elapsed:    0.4s finished\n",
      "[Parallel(n_jobs=-1)]: Using backend LokyBackend with 4 concurrent workers.\n"
     ]
    },
    {
     "name": "stdout",
     "output_type": "stream",
     "text": [
      "DecisionTreeClassifier(max_depth=9, max_features=8)\n",
      "0.1725\n",
      "Fitting 5 folds for each of 80 candidates, totalling 400 fits\n"
     ]
    },
    {
     "name": "stderr",
     "output_type": "stream",
     "text": [
      "[Parallel(n_jobs=-1)]: Done 281 tasks      | elapsed:    0.3s\n",
      "[Parallel(n_jobs=-1)]: Done 400 out of 400 | elapsed:    0.4s finished\n",
      "[Parallel(n_jobs=-1)]: Using backend LokyBackend with 4 concurrent workers.\n"
     ]
    },
    {
     "name": "stdout",
     "output_type": "stream",
     "text": [
      "DecisionTreeClassifier(max_depth=9, max_features=7)\n",
      "0.18375\n",
      "Fitting 5 folds for each of 80 candidates, totalling 400 fits\n",
      "DecisionTreeClassifier(max_depth=10, max_features=5)\n",
      "0.20375000000000001\n"
     ]
    },
    {
     "name": "stderr",
     "output_type": "stream",
     "text": [
      "[Parallel(n_jobs=-1)]: Done 281 tasks      | elapsed:    0.3s\n",
      "[Parallel(n_jobs=-1)]: Done 400 out of 400 | elapsed:    0.4s finished\n"
     ]
    }
   ],
   "source": [
    "from sklearn.model_selection import StratifiedKFold, GridSearchCV\n",
    "from sklearn.tree import DecisionTreeClassifier\n",
    "import warnings\n",
    "warnings.filterwarnings('ignore')\n",
    "\n",
    "# Initialize a stratified split for the validation process\n",
    "skf = StratifiedKFold(n_splits=5, shuffle=True)\n",
    "for train_index, test_index in skf.split(X_train, y_train):\n",
    "    # Decision Trees First\n",
    "    X_train_cv = np.array(X_train)[train_index, :]\n",
    "    X_test_cv = np.array(X_train)[test_index, :]\n",
    "    y_train_cv = np.array(y_train)[train_index]\n",
    "    y_test_cv = np.array(y_train)[test_index]\n",
    "    #tree = DecisionTreeClassifier(criterion = \"entropy\", splitter = \"random\")\n",
    "    tree = DecisionTreeClassifier()\n",
    "    tree_params = {'max_depth': range(1,11), 'max_features': range(1,11)}\n",
    "\n",
    "    tree_grid = GridSearchCV(tree, tree_params, n_jobs=-1, verbose=True)\n",
    "\n",
    "    tree_grid.fit(X_train_cv, y_train_cv)\n",
    "    print(tree_grid.best_estimator_)\n",
    "    print(tree_grid.best_score_)\n"
   ]
  },
  {
   "cell_type": "code",
   "execution_count": 14,
   "metadata": {},
   "outputs": [
    {
     "name": "stderr",
     "output_type": "stream",
     "text": [
      "[Parallel(n_jobs=-1)]: Using backend LokyBackend with 4 concurrent workers.\n"
     ]
    },
    {
     "name": "stdout",
     "output_type": "stream",
     "text": [
      "Fitting 5 folds for each of 512 candidates, totalling 2560 fits\n"
     ]
    },
    {
     "name": "stderr",
     "output_type": "stream",
     "text": [
      "[Parallel(n_jobs=-1)]: Done  42 tasks      | elapsed:    3.8s\n",
      "[Parallel(n_jobs=-1)]: Done 192 tasks      | elapsed:   17.4s\n",
      "[Parallel(n_jobs=-1)]: Done 442 tasks      | elapsed:   41.0s\n",
      "[Parallel(n_jobs=-1)]: Done 792 tasks      | elapsed:  1.3min\n",
      "[Parallel(n_jobs=-1)]: Done 1242 tasks      | elapsed:  2.1min\n",
      "[Parallel(n_jobs=-1)]: Done 1792 tasks      | elapsed:  3.1min\n",
      "[Parallel(n_jobs=-1)]: Done 2442 tasks      | elapsed:  4.5min\n",
      "[Parallel(n_jobs=-1)]: Done 2560 out of 2560 | elapsed:  4.8min finished\n"
     ]
    },
    {
     "name": "stdout",
     "output_type": "stream",
     "text": [
      "RandomForestClassifier(max_depth=8, max_features=4, n_jobs=-1, random_state=42)\n",
      "0.23500000000000001\n",
      "RandomForestClassifier(max_depth=8, max_features=4, n_jobs=-1, random_state=42)\n"
     ]
    }
   ],
   "source": [
    "# Random Forests second\n",
    "\n",
    "parameters = {'max_features': range(1,11), 'min_samples_leaf': range(1,11), 'max_depth': range(1, 11)}\n",
    "rfc = RandomForestClassifier(n_estimators=100, random_state=42, \n",
    "                             n_jobs=-1)\n",
    "best_score = 0\n",
    "skf = StratifiedKFold(n_splits=5, shuffle=True)\n",
    "for train_index, test_index in skf.split(X_train, y_train):\n",
    "    # Decision Trees First\n",
    "    X_train_cv = np.array(X_train)[train_index, :]\n",
    "    X_test_cv = np.array(X_train)[test_index, :]\n",
    "    y_train_cv = np.array(y_train)[train_index]\n",
    "    y_test_cv = np.array(y_train)[test_index]\n",
    "    gcv1 = GridSearchCV(rfc, parameters, n_jobs=-1, verbose=1)\n",
    "    gcv1.fit(X_train_cv, y_train_cv)\n",
    "    print(gcv1.best_estimator_)\n",
    "    print(gcv1.best_score_)\n",
    "    score = gcv1.best_score_\n",
    "    if score > best_score:\n",
    "        recorded_train_indexes = train_index\n",
    "        recorded_test_indexes = test_index\n",
    "        recorded_best_parameters = gcv1.best_estimator_\n",
    "        \n",
    "print(recorded_best_parameters)"
   ]
  },
  {
   "cell_type": "code",
   "execution_count": 15,
   "metadata": {},
   "outputs": [],
   "source": [
    "# kNN third\n",
    "# from sklearn.neighbors import KNeighborsClassifier\n",
    "\n",
    "# knn_params = {'n_neighbors': range(1, 2)}\n",
    "# knn = KNeighborsClassifier(n_jobs=-1)\n",
    "\n",
    "# knn_grid = GridSearchCV(knn, knn_params, cv=skf, n_jobs=-1, verbose=True)\n",
    "# knn_grid.fit(X_train_last, y_train)\n",
    "# knn_grid.best_params_, knn_grid.best_score_"
   ]
  },
  {
   "cell_type": "markdown",
   "metadata": {},
   "source": [
    "Don't expect high cross-val scores! Our dataset is way too small...\n",
    "For my case, PCA + Decision Trees seems to perform better than worst.."
   ]
  },
  {
   "cell_type": "code",
   "execution_count": 16,
   "metadata": {},
   "outputs": [],
   "source": [
    "# Now build your test set;\n",
    "# Generate a new dataframe for recommended tracks\n",
    "# Set recommendation limit as half the Playlist Length per track, you may change this as you like\n",
    "# Check documentation for  recommendations; https://beta.developer.spotify.com/documentation/web-api/reference/browse/get-recommendations/\n",
    "\n",
    "#rec_tracks = []\n",
    "#for i in playlist_df['id'].values.tolist():\n",
    "#    rec_tracks += sp.recommendations(seed_tracks=[i], limit=3)['tracks'];\n",
    "#\n",
    "#rec_track_ids = []\n",
    "#rec_track_names = []\n",
    "#for i in rec_tracks:\n",
    "#    rec_track_ids.append(i['id'])\n",
    "#    rec_track_names.append(i['name'])\n",
    "#\n",
    "#rec_features = []\n",
    "#for i in range(0,len(rec_track_ids)): \n",
    "#    rec_audio_features = sp.audio_features(rec_track_ids[i])\n",
    "#    for track in rec_audio_features:\n",
    "#        rec_features.append(track)\n",
    "#        \n",
    "#rec_playlist_df = pd.DataFrame(rec_features, index = rec_track_ids)\n",
    "#rec_playlist_df.head()"
   ]
  },
  {
   "cell_type": "code",
   "execution_count": null,
   "metadata": {},
   "outputs": [],
   "source": [
    "X_test_names = v.transform(rec_track_names)"
   ]
  },
  {
   "cell_type": "code",
   "execution_count": null,
   "metadata": {},
   "outputs": [],
   "source": [
    "rec_playlist_df=rec_playlist_df[[\"acousticness\", \"danceability\", \"duration_ms\", \n",
    "                         \"energy\", \"instrumentalness\",  \"key\", \"liveness\",\n",
    "                         \"loudness\", \"mode\", \"speechiness\", \"tempo\", \"valence\"]]"
   ]
  },
  {
   "cell_type": "code",
   "execution_count": 17,
   "metadata": {
    "scrolled": true
   },
   "outputs": [
    {
     "name": "stdout",
     "output_type": "stream",
     "text": [
      "[10 10 10 10 10 10 10 10 10 10 10 10  9 10 10 10 10  9  7 10 10 10 10  8\n",
      "  7 10 10 10 10  9 10  6  3  7  9  8 10  4  4  9  5 10  8  7  8  5  8  3\n",
      " 10  6  5  5  7 10 10  3  7 10  9  8  3  7  2  1  8  7  8  8  9  3 10  3\n",
      "  9  3  7  9  7 10  4  3  5  8  7  3  6  6  7  7  8  1  3  9  6  8  3  6\n",
      "  9  1  5  9  3  8  4  3  4  2  5  3  4  6  2 10  2  5  2  5  4  3  7  5\n",
      "  4  1  4  7  1  4  9  3  5  1  8  4  2  3  1  4  1  3  5  2  3  5  1 10\n",
      "  4  5  4  1  3  9  1  5  3  4  1  3  2  8  3  8  4  1  2  2  4  1  9  1\n",
      "  1  1  3  3  3  1  4  1  4  3 10  7  9  7  1  1  5  2  2  1  3  3  1  7\n",
      "  3  6  4  9  1  3  1  3]\n"
     ]
    }
   ],
   "source": [
    "# Make predictions\n",
    "X_train_set = np.array(X_train)[recorded_train_indexes, :]\n",
    "X_test_set = np.array(X_train)[recorded_test_indexes, :]\n",
    "y_train_set = np.array(y_train)[recorded_train_indexes]\n",
    "y_test_set = np.array(y_train)[recorded_test_indexes]\n",
    "gcv1.best_estimator_ = recorded_best_parameters\n",
    "gcv1.best_estimator_.fit(X_train_set, y_train_set)\n",
    "#rec_playlist_df_scaled = StandardScaler().fit_transform(rec_playlist_df)\n",
    "#rec_playlist_df_pca = pca1.transform(rec_playlist_df_scaled)\n",
    "#X_test_last = csr_matrix(hstack([rec_playlist_df_pca, X_test_names]))\n",
    "y_pred_class = gcv1.best_estimator_.predict(X_test_set)\n",
    "print(y_pred_class)"
   ]
  },
  {
   "cell_type": "code",
   "execution_count": 18,
   "metadata": {},
   "outputs": [
    {
     "name": "stdout",
     "output_type": "stream",
     "text": [
      "[125317, 116587, 116330, 54963, 76716, 133504, 13669, 39555, 22459, 95738, 39912, 70341, 143865, 169219, 157261, 143926, 47715, 10927, 96366, 116417, 124645, 61807, 168784, 167827, 95757, 160834, 68867, 107070, 36449, 61642, 97072, 106910, 63145, 87569, 124034, 24130]\n"
     ]
    }
   ],
   "source": [
    "rec_playlist_ratings = y_pred_class\n",
    "#rec_playlist_df = rec_playlist_df.sort_values('ratings', ascending = False)\n",
    "#rec_playlist_df = rec_playlist_df.reset_index()\n",
    "# Pick the top ranking tracks to add your new playlist 9, 10 will work\n",
    "ten_indexes = []\n",
    "nine_indexes = []\n",
    "for i in range(0, len(y_pred_class)):\n",
    "    if y_pred_class[i] == 10:\n",
    "        ten_indexes.append(i)\n",
    "#    if y_pred_class[i] == 9:\n",
    "#        nine_indexes.append(i)\n",
    "#recs_to_add = rec_playlist_df[rec_playlist_df['ratings']>=9]['index'].values.tolist()\n",
    "\n",
    "recomended_song_indexes = []\n",
    "for i in ten_indexes:\n",
    "    recomended_song_indexes.append(recorded_indices[0, test_index[i]])\n",
    "#for i in nine_indexes:\n",
    "#    recomended_song_indexes.append(recorded_indices[0, test_index[i]])\n",
    "print(recomended_song_indexes)"
   ]
  },
  {
   "cell_type": "code",
   "execution_count": 19,
   "metadata": {},
   "outputs": [],
   "source": [
    "# No ratings of 9 or 10 this case try adding 8's only\n",
    "#recs_to_add = rec_playlist_df[rec_playlist_df['ratings']==8]['index'].values.tolist()"
   ]
  },
  {
   "cell_type": "code",
   "execution_count": 20,
   "metadata": {},
   "outputs": [
    {
     "name": "stdout",
     "output_type": "stream",
     "text": [
      "7Kt59L2ZZGtOnIhvMwzG6f\n",
      "0qkdE1C0ufnUISKwhg8Wh6\n",
      "7CTWqCb7LpbwCYawPGg9MZ\n",
      "5GAlGPZF7BA36HiAZtaPn7\n",
      "1YtZ6sHC4TalQbK4c37bqJ\n",
      "0MNGa7b9CeHGWpbDBCtULC\n",
      "2Ux8K31dr7EJUPcs7EVmtt\n",
      "2IWtloZYQDcP8Ashwx8QEF\n",
      "3nm9QuvmSfOqIqK89Dxfno\n",
      "4tgeQrPu5xkrnwErym2JsJ\n",
      "384TqRlwlMfeUAODhXfF3O\n",
      "3XHnaUAFX8PfNMW1hHC75N\n",
      "7nZBRPj89rgeZ5eBLp2J7P\n",
      "4D7kxLhSz7siCOw7KA5rQn\n",
      "0Xr4YqtA6ZIAlhCryEjx9C\n",
      "1CwNogTShsnsn1C8UhRmYX\n",
      "6AgtouHw1KrKy1PsoLjY3o\n",
      "2eGfDDQtptK4isVIdNEnCS\n",
      "01mWFDRL40UlnbOXya5gqm\n",
      "5tMViyamkwQmHjMm1OajDi\n",
      "5d98TnYzxQmFE4vKgzWXuT\n",
      "3x8VM1G75erEHyrlrgwLme\n",
      "4eVikDUCG2zumfejHQxGbe\n",
      "3kvovKeEM31mRldoKN1wVU\n",
      "3PbHle8KhJp6GuO1jLdEmQ\n",
      "5I1ueVGJA6VZRkgkMyiHcP\n",
      "7GDgfn9D2NjtSgc9IH1w3Q\n",
      "4OafepJy2teCjYJbvFE60J\n",
      "05FOgGMjwkyBQmmE1oeLV7\n",
      "6l1DuBpGWcDqj3tl80MfVQ\n",
      "5C64H6dEsQ15bS9gp0D3Xr\n",
      "7vVsDu0gTg6oZtrKy7pXcW\n",
      "5aiQauYlyOli4galt8uvPR\n",
      "5hc71nKsUgtwQ3z52KEKQk\n",
      "4Vf9v7ohVz5i8PeZBliwb5\n",
      "7jHJ2MzIKO1kIMxGamKRKn\n"
     ]
    }
   ],
   "source": [
    "# Check what is about to happen :)\n",
    "for i in recomended_song_indexes:\n",
    "    print(song_info['id'][i])"
   ]
  },
  {
   "cell_type": "code",
   "execution_count": null,
   "metadata": {},
   "outputs": [],
   "source": [
    "#rec_array = np.array(recs_to_add[:5])"
   ]
  },
  {
   "cell_type": "code",
   "execution_count": 21,
   "metadata": {},
   "outputs": [],
   "source": [
    "# Create a new playlist for tracks to add - you may also add these tracks to your source playlist and proceed\n",
    "playlist_recs = sp.user_playlist_create(username, \n",
    "                                        name='CS464 - {}'.format(sourcePlaylist['name']))\n"
   ]
  },
  {
   "cell_type": "code",
   "execution_count": 22,
   "metadata": {},
   "outputs": [
    {
     "name": "stdout",
     "output_type": "stream",
     "text": [
      "{'7Kt59L2ZZGtOnIhvMwzG6f'}\n",
      "{'0qkdE1C0ufnUISKwhg8Wh6'}\n",
      "{'7CTWqCb7LpbwCYawPGg9MZ'}\n",
      "{'5GAlGPZF7BA36HiAZtaPn7'}\n",
      "{'1YtZ6sHC4TalQbK4c37bqJ'}\n",
      "{'0MNGa7b9CeHGWpbDBCtULC'}\n",
      "{'2Ux8K31dr7EJUPcs7EVmtt'}\n",
      "{'2IWtloZYQDcP8Ashwx8QEF'}\n",
      "{'3nm9QuvmSfOqIqK89Dxfno'}\n",
      "{'4tgeQrPu5xkrnwErym2JsJ'}\n",
      "{'384TqRlwlMfeUAODhXfF3O'}\n",
      "{'3XHnaUAFX8PfNMW1hHC75N'}\n",
      "{'7nZBRPj89rgeZ5eBLp2J7P'}\n",
      "{'4D7kxLhSz7siCOw7KA5rQn'}\n",
      "{'0Xr4YqtA6ZIAlhCryEjx9C'}\n",
      "{'1CwNogTShsnsn1C8UhRmYX'}\n",
      "{'6AgtouHw1KrKy1PsoLjY3o'}\n",
      "{'2eGfDDQtptK4isVIdNEnCS'}\n",
      "{'01mWFDRL40UlnbOXya5gqm'}\n",
      "{'5tMViyamkwQmHjMm1OajDi'}\n",
      "{'5d98TnYzxQmFE4vKgzWXuT'}\n",
      "{'3x8VM1G75erEHyrlrgwLme'}\n",
      "{'4eVikDUCG2zumfejHQxGbe'}\n",
      "{'3kvovKeEM31mRldoKN1wVU'}\n",
      "{'3PbHle8KhJp6GuO1jLdEmQ'}\n",
      "{'5I1ueVGJA6VZRkgkMyiHcP'}\n",
      "{'7GDgfn9D2NjtSgc9IH1w3Q'}\n",
      "{'4OafepJy2teCjYJbvFE60J'}\n",
      "{'05FOgGMjwkyBQmmE1oeLV7'}\n",
      "{'6l1DuBpGWcDqj3tl80MfVQ'}\n",
      "{'5C64H6dEsQ15bS9gp0D3Xr'}\n",
      "{'7vVsDu0gTg6oZtrKy7pXcW'}\n",
      "{'5aiQauYlyOli4galt8uvPR'}\n",
      "{'5hc71nKsUgtwQ3z52KEKQk'}\n",
      "{'4Vf9v7ohVz5i8PeZBliwb5'}\n",
      "{'7jHJ2MzIKO1kIMxGamKRKn'}\n"
     ]
    }
   ],
   "source": [
    "# Add tracks to the new playlist\n",
    "tracks = {}\n",
    "for i in recomended_song_indexes:\n",
    "    tracks = {song_info['id'][i]}\n",
    "    print(tracks)\n",
    "    sp.playlist_add_items(playlist_recs['id'], tracks, position=None)\n",
    "#     sp.user_playlist_add_tracks(username, playlist_recs['id'], i)"
   ]
  },
  {
   "cell_type": "code",
   "execution_count": null,
   "metadata": {},
   "outputs": [],
   "source": [
    "# This performed really well for my case, and I am pretty satisfied with the resulting playlist -more than the default recommendations"
   ]
  }
 ],
 "metadata": {
  "kernelspec": {
   "display_name": "Python 3",
   "language": "python",
   "name": "python3"
  },
  "language_info": {
   "codemirror_mode": {
    "name": "ipython",
    "version": 3
   },
   "file_extension": ".py",
   "mimetype": "text/x-python",
   "name": "python",
   "nbconvert_exporter": "python",
   "pygments_lexer": "ipython3",
   "version": "3.8.3"
  }
 },
 "nbformat": 4,
 "nbformat_minor": 2
}
