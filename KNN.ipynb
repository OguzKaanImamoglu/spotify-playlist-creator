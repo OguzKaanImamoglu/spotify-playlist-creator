{
 "cells": [
  {
   "cell_type": "code",
   "execution_count": 2,
   "metadata": {},
   "outputs": [
    {
     "name": "stdout",
     "output_type": "stream",
     "text": [
      "Collecting spotipy\n",
      "\u001b[33m  WARNING: Retrying (Retry(total=4, connect=None, read=None, redirect=None, status=None)) after connection broken by 'NewConnectionError('<pip._vendor.urllib3.connection.HTTPSConnection object at 0x7ff441299dc0>: Failed to establish a new connection: [Errno 8] nodename nor servname provided, or not known')': /packages/7a/cd/e7d9a35216ea5bfb9234785f3d8fa7c96d0e33999c2cb72394128f6b4cce/spotipy-2.16.1-py3-none-any.whl\u001b[0m\n",
      "  Downloading spotipy-2.16.1-py3-none-any.whl (24 kB)\n",
      "Requirement already satisfied: six>=1.10.0 in /Users/yavuzselim.tasci/opt/anaconda3/lib/python3.8/site-packages (from spotipy) (1.15.0)\n",
      "Requirement already satisfied: requests>=2.20.0 in /Users/yavuzselim.tasci/opt/anaconda3/lib/python3.8/site-packages (from spotipy) (2.24.0)\n",
      "Requirement already satisfied: certifi>=2017.4.17 in /Users/yavuzselim.tasci/opt/anaconda3/lib/python3.8/site-packages (from requests>=2.20.0->spotipy) (2020.6.20)\n",
      "Requirement already satisfied: chardet<4,>=3.0.2 in /Users/yavuzselim.tasci/opt/anaconda3/lib/python3.8/site-packages (from requests>=2.20.0->spotipy) (3.0.4)\n",
      "Requirement already satisfied: urllib3!=1.25.0,!=1.25.1,<1.26,>=1.21.1 in /Users/yavuzselim.tasci/opt/anaconda3/lib/python3.8/site-packages (from requests>=2.20.0->spotipy) (1.25.11)\n",
      "Requirement already satisfied: idna<3,>=2.5 in /Users/yavuzselim.tasci/opt/anaconda3/lib/python3.8/site-packages (from requests>=2.20.0->spotipy) (2.10)\n",
      "Installing collected packages: spotipy\n",
      "Successfully installed spotipy-2.16.1\n"
     ]
    }
   ],
   "source": [
    "import spotipy\n",
    "import spotipy.util as util\n",
    "from spotipy.oauth2 import SpotifyClientCredentials\n",
    "from spotipy.oauth2 import SpotifyOAuth\n",
    "from spotipy import oauth2\n",
    "import csv\n",
    "import numpy as np\n",
    "from sklearn.neighbors import NearestNeighbors\n",
    "from sklearn.linear_model import LinearRegression\n",
    "from sklearn.preprocessing import StandardScaler\n",
    "import base64"
   ]
  },
  {
   "cell_type": "code",
   "execution_count": 3,
   "metadata": {},
   "outputs": [],
   "source": [
    "def get_credentials():\n",
    "    cid = '8c4cb3ef1c0c412181ea69d07b3df0ca'\n",
    "    secret = 'a07e05c762a24e12933c4c118c6c18ca'\n",
    "    redirect_uri = 'http://localhost:8910/callback'\n",
    "    username = 'Arda Akça Büyük'\n",
    "    return cid, secret, redirect_uri, username"
   ]
  },
  {
   "cell_type": "code",
   "execution_count": 4,
   "metadata": {},
   "outputs": [],
   "source": [
    "def read_data(dataset_path):\n",
    "    with open(dataset_path, 'r') as token_file:\n",
    "        lines = csv.reader(token_file)\n",
    "        dataset = list(lines)\n",
    "        data = np.array(dataset)   \n",
    "        return data"
   ]
  },
  {
   "cell_type": "code",
   "execution_count": 5,
   "metadata": {},
   "outputs": [],
   "source": [
    "class KNNPredictor:\n",
    "    def __init__(self, data):\n",
    "        self.data = data\n",
    "        self.preprocessing()\n",
    "        self.train()\n",
    "    \n",
    "    def preprocessing(self):\n",
    "        indices = []\n",
    "        self.id_index = -1\n",
    "        info = []\n",
    "        choose = -1\n",
    "        for i in range(self.data.shape[1]):\n",
    "            if self.data[0][i] in ['key', 'artists', 'release_date', 'name', 'id']:\n",
    "                indices.append(i)\n",
    "                if self.data[0][i] == 'id':\n",
    "                    self.id_index = i\n",
    "\n",
    "            if self.data[0][i] in ['artists', 'name']:\n",
    "                info.append(i)\n",
    "\n",
    "\n",
    "        self.data = self.data[1:,:]\n",
    "        np.random.shuffle(self.data)\n",
    "        self.ids = np.array(self.data[:,self.id_index:self.id_index+1])\n",
    "        song_info = np.array(self.data[:,info])\n",
    "        self.data = np.delete(self.data, indices, axis=1)\n",
    "        self.ids = np.ndarray.flatten(self.ids)\n",
    "        self.data = self.data.astype('float64')\n",
    "\n",
    "    def train(self):\n",
    "        self.model = NearestNeighbors(n_neighbors = 26, algorithm = 'ball_tree')\n",
    "        scalar = StandardScaler()\n",
    "        scalar.fit(self.data)\n",
    "        self.data = scalar.transform(self.data)\n",
    "        self.model.fit(self.data)\n",
    "    \n",
    "    def predict(self, song_id):\n",
    "        for j in range(self.data.shape[0]):\n",
    "            if self.ids[j] == song_id:\n",
    "                choose = j\n",
    "        distances, indices = self.model.kneighbors([self.data[choose]])\n",
    "        indices = np.ndarray.flatten(indices[:,1:])\n",
    "        tracks = self.ids[indices]\n",
    "        return tracks"
   ]
  },
  {
   "cell_type": "code",
   "execution_count": 26,
   "metadata": {},
   "outputs": [],
   "source": [
    "class LinearPredictor:\n",
    "    \n",
    "    def __init__(self, data):\n",
    "        self.data = data\n",
    "        self.preprocessing()\n",
    "    \n",
    "    def preprocessing(self):\n",
    "        indices = []\n",
    "        self.id_index = -1\n",
    "        info = []\n",
    "        choose = -1\n",
    "        for i in range(self.data.shape[1]):\n",
    "            if self.data[0][i] in ['key', 'artists', 'release_date', 'name', 'id']:\n",
    "                indices.append(i)\n",
    "                if self.data[0][i] == 'id':\n",
    "                    self.id_index = i\n",
    "\n",
    "            if self.data[0][i] in ['artists', 'name']:\n",
    "                info.append(i)\n",
    "\n",
    "\n",
    "        self.data = self.data[1:,:]\n",
    "        np.random.shuffle(self.data)\n",
    "        self.ids = np.array(self.data[:,self.id_index:self.id_index+1])\n",
    "        self.song_info = np.array(self.data[:,info])\n",
    "        self.data = np.delete(self.data, indices, axis=1)\n",
    "        self.ids = np.ndarray.flatten(self.ids)\n",
    "        self.data = self.data.astype('float64')\n",
    "    \n",
    "    def train_and_predict(self, song_id):\n",
    "        knnmodel = NearestNeighbors(n_neighbors = 5001, algorithm = 'ball_tree')\n",
    "        scalar = StandardScaler()\n",
    "        scalar.fit(self.data)\n",
    "        self.data = scalar.transform(self.data)\n",
    "        knnmodel.fit(self.data)\n",
    "        \n",
    "        for j in range(self.data.shape[0]):\n",
    "            if self.ids[j] == song_id:\n",
    "                self.choose = j\n",
    "        \n",
    "        distances, indices = knnmodel.kneighbors([self.data[self.choose]])\n",
    "        indices = np.ndarray.flatten(indices[:,1:])\n",
    "        tracks = self.ids[indices]\n",
    "        tracks = np.ndarray.flatten(tracks)\n",
    "        \n",
    "        relevances = []\n",
    "        threshold = 100\n",
    "        relevance = threshold\n",
    "        for i, _ in enumerate(tracks):\n",
    "            relevances.append(relevance)\n",
    "            relevance -= 0.0006\n",
    "        \n",
    "        song_train = self.data[indices]\n",
    "        self.model = LinearRegression().fit(song_train, relevances)\n",
    "        predictions = self.model.predict(self.data)\n",
    "        sort_indices = np.argsort(predictions)[::-1]\n",
    "        predictions = np.array(predictions)\n",
    "        predictions = predictions.astype('float64')\n",
    "        predictions = predictions[sort_indices]\n",
    "        \n",
    "        first_threshold_index = 0\n",
    "        for i in range(predictions.shape[0]):\n",
    "            if predictions[i] <= threshold + 1:\n",
    "                first_threshold_index = i\n",
    "                break\n",
    "\n",
    "        playlist_added = self.ids[sort_indices][first_threshold_index:first_threshold_index+100]\n",
    "        \n",
    "        return playlist_added"
   ]
  },
  {
   "cell_type": "code",
   "execution_count": 27,
   "metadata": {},
   "outputs": [],
   "source": [
    "def create_playlist(playlist_name, tracks, username, client_id, client_secret, redirect_uri):\n",
    "    scope = \"playlist-modify-public\"\n",
    "    token = util.prompt_for_user_token(username,scope,client_id=client_id,client_secret=client_secret,redirect_uri=redirect_uri) \n",
    "    sp = spotipy.Spotify(auth=token)\n",
    "    sp.user_playlist_create(username, name=playlist_name)\n",
    "    playlists = sp.user_playlists(username)\n",
    "    tracks = np.ndarray.flatten(tracks)\n",
    "    tracks = list(tracks)\n",
    "    sp.user_playlist_add_tracks(username, playlists['items'][0]['id'], tracks)"
   ]
  },
  {
   "cell_type": "code",
   "execution_count": 28,
   "metadata": {},
   "outputs": [],
   "source": [
    "def main():\n",
    "    cid, secret, redirect_uri, username = get_credentials()\n",
    "    data = read_data('./data/data.csv')\n",
    "    knnPredictor = KNNPredictor(data)\n",
    "    song_id = input('Enter song ID: ')\n",
    "    tracks = knnPredictor.predict(song_id)\n",
    "    username = input('Enter username: ')\n",
    "    playlist_name = input('Enter playlist name: ')\n",
    "    create_playlist(playlist_name, tracks, username, client_id=cid, client_secret=secret, redirect_uri=redirect_uri)\n",
    "\n",
    "def main2():\n",
    "    cid, secret, redirect_uri, username = get_credentials()\n",
    "    data = read_data('./data/data.csv')\n",
    "    linearPredictor = LinearPredictor(data)\n",
    "    song_id = input('Enter song ID: ')\n",
    "    tracks = linearPredictor.train_and_predict(song_id)\n",
    "    username = input('Enter username: ')\n",
    "    playlist_name = input('Enter playlist name: ')\n",
    "    create_playlist(playlist_name, tracks, username, client_id=cid, client_secret=secret, redirect_uri=redirect_uri)"
   ]
  },
  {
   "cell_type": "code",
   "execution_count": 30,
   "metadata": {},
   "outputs": [
    {
     "name": "stdout",
     "output_type": "stream",
     "text": [
      "Enter song ID: 2xLMifQCjDGFmkHkpNLD9h\n",
      "Enter username: yavuzselim8\n",
      "Enter playlist name: linear\n"
     ]
    }
   ],
   "source": [
    "main2()"
   ]
  },
  {
   "cell_type": "code",
   "execution_count": null,
   "metadata": {},
   "outputs": [],
   "source": []
  }
 ],
 "metadata": {
  "kernelspec": {
   "display_name": "Python 3",
   "language": "python",
   "name": "python3"
  },
  "language_info": {
   "codemirror_mode": {
    "name": "ipython",
    "version": 3
   },
   "file_extension": ".py",
   "mimetype": "text/x-python",
   "name": "python",
   "nbconvert_exporter": "python",
   "pygments_lexer": "ipython3",
   "version": "3.8.5"
  }
 },
 "nbformat": 4,
 "nbformat_minor": 4
}
