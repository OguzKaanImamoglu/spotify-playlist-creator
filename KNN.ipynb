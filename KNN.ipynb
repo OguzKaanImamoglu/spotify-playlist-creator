{
 "cells": [
  {
   "cell_type": "code",
   "execution_count": 127,
   "metadata": {},
   "outputs": [],
   "source": [
    "import spotipy\n",
    "import spotipy.util as util\n",
    "from spotipy.oauth2 import SpotifyClientCredentials\n",
    "from spotipy.oauth2 import SpotifyOAuth\n",
    "from spotipy import oauth2\n",
    "import csv\n",
    "import numpy as np\n",
    "from sklearn.pipeline import make_pipeline\n",
    "from sklearn.neighbors import NearestNeighbors\n",
    "from sklearn.preprocessing import StandardScaler"
   ]
  },
  {
   "cell_type": "code",
   "execution_count": 120,
   "metadata": {},
   "outputs": [],
   "source": [
    "cid = '8c4cb3ef1c0c412181ea69d07b3df0ca'\n",
    "secret = 'a07e05c762a24e12933c4c118c6c18ca'\n",
    "redirect_uri = 'http://localhost:8910/callback'\n",
    "username = 'Arda Akça Büyük'"
   ]
  },
  {
   "cell_type": "code",
   "execution_count": 90,
   "metadata": {},
   "outputs": [],
   "source": [
    "dataset_path = \"./data/data.csv\"\n",
    "with open(dataset_path, 'r') as token_file:\n",
    "    lines = csv.reader(token_file)\n",
    "    dataset = list(lines)\n",
    "    data = np.array(dataset)"
   ]
  },
  {
   "cell_type": "code",
   "execution_count": 91,
   "metadata": {},
   "outputs": [],
   "source": [
    "indices = []\n",
    "id_index = -1\n",
    "info = []\n",
    "choose = -1\n",
    "name_index = -1\n",
    "for i in range(data.shape[1]):\n",
    "    if data[0][i] in ['key', 'artists', 'release_date', 'name']:\n",
    "        indices.append(i)\n",
    "        if data[0][i] == 'name':\n",
    "            name_index = i\n",
    "    elif data[0][i] == 'id':\n",
    "        id_index = i\n",
    "        \n",
    "    if data[0][i] in ['artists', 'name']:\n",
    "        info.append(i)\n",
    "    \n",
    "\n",
    "\n",
    "data = data[1:,:]\n",
    "np.random.shuffle(data)\n",
    "for j in range(data.shape[0]):\n",
    "    if data[j][name_index] == 'STARGAZING':\n",
    "        choose = j\n",
    "ids = np.array(data[:,id_index:id_index+1])\n",
    "song_info = np.array(data[:,info])\n",
    "indices.append(id_index)\n",
    "data = np.delete(data, indices, axis=1)"
   ]
  },
  {
   "cell_type": "code",
   "execution_count": 92,
   "metadata": {},
   "outputs": [
    {
     "data": {
      "text/plain": [
       "array([\"['Travis Scott']\", 'STARGAZING'], dtype='<U661')"
      ]
     },
     "execution_count": 92,
     "metadata": {},
     "output_type": "execute_result"
    }
   ],
   "source": [
    "song_info[choose]"
   ]
  },
  {
   "cell_type": "code",
   "execution_count": 93,
   "metadata": {},
   "outputs": [],
   "source": [
    "data = data.astype('float64')"
   ]
  },
  {
   "cell_type": "code",
   "execution_count": 94,
   "metadata": {},
   "outputs": [],
   "source": [
    "model = NearestNeighbors(n_neighbors = 26, algorithm = 'ball_tree')\n",
    "scalar = StandardScaler()\n",
    "scalar.fit(data)\n",
    "data = scalar.transform(data)\n",
    "model.fit(data)\n",
    "distances, indices = model.kneighbors([data[choose]])"
   ]
  },
  {
   "cell_type": "code",
   "execution_count": 110,
   "metadata": {},
   "outputs": [],
   "source": [
    "selected = song_info[choose]\n",
    "playlist = song_info[indices]\n",
    "playlist = playlist[:,1:,:]"
   ]
  },
  {
   "cell_type": "code",
   "execution_count": 111,
   "metadata": {},
   "outputs": [
    {
     "data": {
      "text/plain": [
       "array([\"['Travis Scott']\", 'STARGAZING'], dtype='<U661')"
      ]
     },
     "execution_count": 111,
     "metadata": {},
     "output_type": "execute_result"
    }
   ],
   "source": [
    "selected"
   ]
  },
  {
   "cell_type": "code",
   "execution_count": 112,
   "metadata": {},
   "outputs": [
    {
     "data": {
      "text/plain": [
       "array([[[\"['Kanye West']\", 'All Of The Lights'],\n",
       "        [\"['YUNGBLUD', 'Halsey', 'Travis Barker']\",\n",
       "         '11 Minutes (with Halsey feat. Travis Barker)'],\n",
       "        [\"['Juice WRLD']\", \"I'll Be Fine\"],\n",
       "        [\"['The 1975']\", 'Love It If We Made It'],\n",
       "        [\"['Pop Smoke']\", 'Welcome To The Party'],\n",
       "        [\"['Ariana Grande']\", 'God is a woman'],\n",
       "        [\"['Agust D', 'Kim Jong Wan']\",\n",
       "         'Dear my friend (feat. Kim Jong Wan of NELL)'],\n",
       "        [\"['Lil Peep']\", 'Kiss'],\n",
       "        [\"['DJ Khaled', 'Ludacris', 'T-Pain', 'Snoop Dogg', 'Rick Ross']\",\n",
       "         'All I Do Is Win (feat. T-Pain, Ludacris, Snoop Dogg & Rick Ross)'],\n",
       "        [\"['Staind']\", \"It's Been Awhile\"],\n",
       "        [\"['RL Grime', '24hrs']\", 'UCLA'],\n",
       "        [\"['Eminem', 'Nate Dogg']\", \"'Till I Collapse\"],\n",
       "        [\"['The Weeknd']\", 'Snowchild'],\n",
       "        [\"['The Weeknd']\", 'Nothing Compares - Bonus Track'],\n",
       "        [\"['Kanye West']\", 'Bound 2'],\n",
       "        [\"['Ace Hood', 'Future', 'Rick Ross']\", 'Bugatti'],\n",
       "        [\"['Three Days Grace']\", 'Right Left Wrong'],\n",
       "        [\"['Avenged Sevenfold']\", 'Nightmare'],\n",
       "        [\"['Juice WRLD']\", 'Legends'],\n",
       "        [\"['Koe Wetzel']\", 'Ragweed'],\n",
       "        [\"['Rex Orange County']\", 'Best Friend'],\n",
       "        [\"['Yung Pinch', 'Lil Skies']\", 'Nightmares (feat. Lil Skies)'],\n",
       "        [\"['Five Finger Death Punch']\", 'Darkness Settles In'],\n",
       "        [\"['Trippie Redd']\", 'In Too Deep'],\n",
       "        [\"['Amy Winehouse']\", 'Back To Black']]], dtype='<U661')"
      ]
     },
     "execution_count": 112,
     "metadata": {},
     "output_type": "execute_result"
    }
   ],
   "source": [
    "playlist"
   ]
  },
  {
   "cell_type": "code",
   "execution_count": 113,
   "metadata": {},
   "outputs": [
    {
     "data": {
      "text/plain": [
       "array([[0.        , 0.98475234, 1.139031  , 1.26832188, 1.31855518,\n",
       "        1.35263887, 1.40810948, 1.42163193, 1.53091906, 1.53116306,\n",
       "        1.53517189, 1.55394102, 1.55476199, 1.57579582, 1.58053255,\n",
       "        1.5974928 , 1.6144177 , 1.63202964, 1.63677751, 1.64196518,\n",
       "        1.64205514, 1.64818831, 1.65346125, 1.65941376, 1.66974839,\n",
       "        1.68612259]])"
      ]
     },
     "execution_count": 113,
     "metadata": {},
     "output_type": "execute_result"
    }
   ],
   "source": [
    "distances"
   ]
  },
  {
   "cell_type": "code",
   "execution_count": 133,
   "metadata": {},
   "outputs": [
    {
     "name": "stderr",
     "output_type": "stream",
     "text": [
      "HTTP Error for POST to https://api.spotify.com/v1/users/8c4cb3ef1c0c412181ea69d07b3df0ca/playlists returned 403 due to You cannot create a playlist for another user.\n"
     ]
    },
    {
     "ename": "SpotifyException",
     "evalue": "http status: 403, code:-1 - https://api.spotify.com/v1/users/8c4cb3ef1c0c412181ea69d07b3df0ca/playlists:\n You cannot create a playlist for another user., reason: None",
     "output_type": "error",
     "traceback": [
      "\u001b[0;31m---------------------------------------------------------------------------\u001b[0m",
      "\u001b[0;31mHTTPError\u001b[0m                                 Traceback (most recent call last)",
      "\u001b[0;32m~/opt/anaconda3/lib/python3.7/site-packages/spotipy/client.py\u001b[0m in \u001b[0;36m_internal_call\u001b[0;34m(self, method, url, payload, params)\u001b[0m\n\u001b[1;32m    244\u001b[0m \u001b[0;34m\u001b[0m\u001b[0m\n\u001b[0;32m--> 245\u001b[0;31m             \u001b[0mresponse\u001b[0m\u001b[0;34m.\u001b[0m\u001b[0mraise_for_status\u001b[0m\u001b[0;34m(\u001b[0m\u001b[0;34m)\u001b[0m\u001b[0;34m\u001b[0m\u001b[0;34m\u001b[0m\u001b[0m\n\u001b[0m\u001b[1;32m    246\u001b[0m             \u001b[0mresults\u001b[0m \u001b[0;34m=\u001b[0m \u001b[0mresponse\u001b[0m\u001b[0;34m.\u001b[0m\u001b[0mjson\u001b[0m\u001b[0;34m(\u001b[0m\u001b[0;34m)\u001b[0m\u001b[0;34m\u001b[0m\u001b[0;34m\u001b[0m\u001b[0m\n",
      "\u001b[0;32m~/opt/anaconda3/lib/python3.7/site-packages/requests/models.py\u001b[0m in \u001b[0;36mraise_for_status\u001b[0;34m(self)\u001b[0m\n\u001b[1;32m    939\u001b[0m         \u001b[0;32mif\u001b[0m \u001b[0mhttp_error_msg\u001b[0m\u001b[0;34m:\u001b[0m\u001b[0;34m\u001b[0m\u001b[0;34m\u001b[0m\u001b[0m\n\u001b[0;32m--> 940\u001b[0;31m             \u001b[0;32mraise\u001b[0m \u001b[0mHTTPError\u001b[0m\u001b[0;34m(\u001b[0m\u001b[0mhttp_error_msg\u001b[0m\u001b[0;34m,\u001b[0m \u001b[0mresponse\u001b[0m\u001b[0;34m=\u001b[0m\u001b[0mself\u001b[0m\u001b[0;34m)\u001b[0m\u001b[0;34m\u001b[0m\u001b[0;34m\u001b[0m\u001b[0m\n\u001b[0m\u001b[1;32m    941\u001b[0m \u001b[0;34m\u001b[0m\u001b[0m\n",
      "\u001b[0;31mHTTPError\u001b[0m: 403 Client Error: Forbidden for url: https://api.spotify.com/v1/users/8c4cb3ef1c0c412181ea69d07b3df0ca/playlists",
      "\nDuring handling of the above exception, another exception occurred:\n",
      "\u001b[0;31mSpotifyException\u001b[0m                          Traceback (most recent call last)",
      "\u001b[0;32m<ipython-input-133-caef79e1fb7d>\u001b[0m in \u001b[0;36m<module>\u001b[0;34m\u001b[0m\n\u001b[1;32m      6\u001b[0m \u001b[0msp\u001b[0m \u001b[0;34m=\u001b[0m \u001b[0mspotipy\u001b[0m\u001b[0;34m.\u001b[0m\u001b[0mSpotify\u001b[0m\u001b[0;34m(\u001b[0m\u001b[0mauth_manager\u001b[0m\u001b[0;34m=\u001b[0m\u001b[0mSpotifyOAuth\u001b[0m\u001b[0;34m(\u001b[0m\u001b[0mscope\u001b[0m\u001b[0;34m=\u001b[0m\u001b[0mscope\u001b[0m\u001b[0;34m,\u001b[0m \u001b[0mclient_id\u001b[0m\u001b[0;34m=\u001b[0m\u001b[0mcid\u001b[0m\u001b[0;34m,\u001b[0m \u001b[0mclient_secret\u001b[0m\u001b[0;34m=\u001b[0m\u001b[0msecret\u001b[0m\u001b[0;34m,\u001b[0m \u001b[0mredirect_uri\u001b[0m\u001b[0;34m=\u001b[0m\u001b[0mredirect_uri\u001b[0m\u001b[0;34m)\u001b[0m\u001b[0;34m)\u001b[0m\u001b[0;34m\u001b[0m\u001b[0;34m\u001b[0m\u001b[0m\n\u001b[1;32m      7\u001b[0m \u001b[0;34m\u001b[0m\u001b[0m\n\u001b[0;32m----> 8\u001b[0;31m \u001b[0msp\u001b[0m\u001b[0;34m.\u001b[0m\u001b[0muser_playlist_create\u001b[0m\u001b[0;34m(\u001b[0m\u001b[0mcid\u001b[0m\u001b[0;34m,\u001b[0m \u001b[0mname\u001b[0m\u001b[0;34m=\u001b[0m\u001b[0mplaylist_name\u001b[0m\u001b[0;34m)\u001b[0m\u001b[0;34m\u001b[0m\u001b[0;34m\u001b[0m\u001b[0m\n\u001b[0m\u001b[1;32m      9\u001b[0m \u001b[0;31m#sp = spotipy.Spotify(auth_manager=SpotifyOAuth(scope=scope, open_browser=False))\u001b[0m\u001b[0;34m\u001b[0m\u001b[0;34m\u001b[0m\u001b[0;34m\u001b[0m\u001b[0m\n\u001b[1;32m     10\u001b[0m \u001b[0ma\u001b[0m \u001b[0;34m=\u001b[0m \u001b[0msp\u001b[0m\u001b[0;34m.\u001b[0m\u001b[0muser_playlists\u001b[0m\u001b[0;34m(\u001b[0m\u001b[0mcid\u001b[0m\u001b[0;34m,\u001b[0m \u001b[0mlimit\u001b[0m\u001b[0;34m=\u001b[0m\u001b[0;36m50\u001b[0m\u001b[0;34m,\u001b[0m \u001b[0moffset\u001b[0m\u001b[0;34m=\u001b[0m\u001b[0;36m0\u001b[0m\u001b[0;34m)\u001b[0m\u001b[0;34m\u001b[0m\u001b[0;34m\u001b[0m\u001b[0m\n",
      "\u001b[0;32m~/opt/anaconda3/lib/python3.7/site-packages/spotipy/client.py\u001b[0m in \u001b[0;36muser_playlist_create\u001b[0;34m(self, user, name, public, collaborative, description)\u001b[0m\n\u001b[1;32m    773\u001b[0m         }\n\u001b[1;32m    774\u001b[0m \u001b[0;34m\u001b[0m\u001b[0m\n\u001b[0;32m--> 775\u001b[0;31m         \u001b[0;32mreturn\u001b[0m \u001b[0mself\u001b[0m\u001b[0;34m.\u001b[0m\u001b[0m_post\u001b[0m\u001b[0;34m(\u001b[0m\u001b[0;34m\"users/%s/playlists\"\u001b[0m \u001b[0;34m%\u001b[0m \u001b[0;34m(\u001b[0m\u001b[0muser\u001b[0m\u001b[0;34m,\u001b[0m\u001b[0;34m)\u001b[0m\u001b[0;34m,\u001b[0m \u001b[0mpayload\u001b[0m\u001b[0;34m=\u001b[0m\u001b[0mdata\u001b[0m\u001b[0;34m)\u001b[0m\u001b[0;34m\u001b[0m\u001b[0;34m\u001b[0m\u001b[0m\n\u001b[0m\u001b[1;32m    776\u001b[0m \u001b[0;34m\u001b[0m\u001b[0m\n\u001b[1;32m    777\u001b[0m     def user_playlist_change_details(\n",
      "\u001b[0;32m~/opt/anaconda3/lib/python3.7/site-packages/spotipy/client.py\u001b[0m in \u001b[0;36m_post\u001b[0;34m(self, url, args, payload, **kwargs)\u001b[0m\n\u001b[1;32m    294\u001b[0m         \u001b[0;32mif\u001b[0m \u001b[0margs\u001b[0m\u001b[0;34m:\u001b[0m\u001b[0;34m\u001b[0m\u001b[0;34m\u001b[0m\u001b[0m\n\u001b[1;32m    295\u001b[0m             \u001b[0mkwargs\u001b[0m\u001b[0;34m.\u001b[0m\u001b[0mupdate\u001b[0m\u001b[0;34m(\u001b[0m\u001b[0margs\u001b[0m\u001b[0;34m)\u001b[0m\u001b[0;34m\u001b[0m\u001b[0;34m\u001b[0m\u001b[0m\n\u001b[0;32m--> 296\u001b[0;31m         \u001b[0;32mreturn\u001b[0m \u001b[0mself\u001b[0m\u001b[0;34m.\u001b[0m\u001b[0m_internal_call\u001b[0m\u001b[0;34m(\u001b[0m\u001b[0;34m\"POST\"\u001b[0m\u001b[0;34m,\u001b[0m \u001b[0murl\u001b[0m\u001b[0;34m,\u001b[0m \u001b[0mpayload\u001b[0m\u001b[0;34m,\u001b[0m \u001b[0mkwargs\u001b[0m\u001b[0;34m)\u001b[0m\u001b[0;34m\u001b[0m\u001b[0;34m\u001b[0m\u001b[0m\n\u001b[0m\u001b[1;32m    297\u001b[0m \u001b[0;34m\u001b[0m\u001b[0m\n\u001b[1;32m    298\u001b[0m     \u001b[0;32mdef\u001b[0m \u001b[0m_delete\u001b[0m\u001b[0;34m(\u001b[0m\u001b[0mself\u001b[0m\u001b[0;34m,\u001b[0m \u001b[0murl\u001b[0m\u001b[0;34m,\u001b[0m \u001b[0margs\u001b[0m\u001b[0;34m=\u001b[0m\u001b[0;32mNone\u001b[0m\u001b[0;34m,\u001b[0m \u001b[0mpayload\u001b[0m\u001b[0;34m=\u001b[0m\u001b[0;32mNone\u001b[0m\u001b[0;34m,\u001b[0m \u001b[0;34m**\u001b[0m\u001b[0mkwargs\u001b[0m\u001b[0;34m)\u001b[0m\u001b[0;34m:\u001b[0m\u001b[0;34m\u001b[0m\u001b[0;34m\u001b[0m\u001b[0m\n",
      "\u001b[0;32m~/opt/anaconda3/lib/python3.7/site-packages/spotipy/client.py\u001b[0m in \u001b[0;36m_internal_call\u001b[0;34m(self, method, url, payload, params)\u001b[0m\n\u001b[1;32m    264\u001b[0m                 \u001b[0;34m\"%s:\\n %s\"\u001b[0m \u001b[0;34m%\u001b[0m \u001b[0;34m(\u001b[0m\u001b[0mresponse\u001b[0m\u001b[0;34m.\u001b[0m\u001b[0murl\u001b[0m\u001b[0;34m,\u001b[0m \u001b[0mmsg\u001b[0m\u001b[0;34m)\u001b[0m\u001b[0;34m,\u001b[0m\u001b[0;34m\u001b[0m\u001b[0;34m\u001b[0m\u001b[0m\n\u001b[1;32m    265\u001b[0m                 \u001b[0mreason\u001b[0m\u001b[0;34m=\u001b[0m\u001b[0mreason\u001b[0m\u001b[0;34m,\u001b[0m\u001b[0;34m\u001b[0m\u001b[0;34m\u001b[0m\u001b[0m\n\u001b[0;32m--> 266\u001b[0;31m                 \u001b[0mheaders\u001b[0m\u001b[0;34m=\u001b[0m\u001b[0mresponse\u001b[0m\u001b[0;34m.\u001b[0m\u001b[0mheaders\u001b[0m\u001b[0;34m,\u001b[0m\u001b[0;34m\u001b[0m\u001b[0;34m\u001b[0m\u001b[0m\n\u001b[0m\u001b[1;32m    267\u001b[0m             )\n\u001b[1;32m    268\u001b[0m         \u001b[0;32mexcept\u001b[0m \u001b[0mrequests\u001b[0m\u001b[0;34m.\u001b[0m\u001b[0mexceptions\u001b[0m\u001b[0;34m.\u001b[0m\u001b[0mRetryError\u001b[0m \u001b[0;32mas\u001b[0m \u001b[0mretry_error\u001b[0m\u001b[0;34m:\u001b[0m\u001b[0;34m\u001b[0m\u001b[0;34m\u001b[0m\u001b[0m\n",
      "\u001b[0;31mSpotifyException\u001b[0m: http status: 403, code:-1 - https://api.spotify.com/v1/users/8c4cb3ef1c0c412181ea69d07b3df0ca/playlists:\n You cannot create a playlist for another user., reason: None"
     ]
    }
   ],
   "source": [
    "playlist_name = \"CS464 - Term Project (KNN Algorithm)\"\n",
    "scope = \"playlist-modify-public\"\n",
    "#credentials = SpotifyClientCredentials(client_id=cid, client_secret=secret)\n",
    "#token = credentials.get_access_token()\n",
    "#token = util.prompt_for_user_token(username, scope, client_id=cid, client_secret=secret, redirect_uri=redirect_uri)\n",
    "sp = spotipy.Spotify(auth_manager=SpotifyOAuth(scope=scope, client_id=cid, client_secret=secret, redirect_uri=redirect_uri))\n",
    "    \n",
    "sp.user_playlist_create(cid, name=playlist_name)\n",
    "#sp = spotipy.Spotify(auth_manager=SpotifyOAuth(scope=scope, open_browser=False))\n",
    "a = sp.user_playlists(cid, limit=50, offset=0)\n",
    "tracks = ids[indices]\n",
    "b = sp.tracks(tracks, market='TR')\n",
    "# # print(b)\n",
    "# # print(b['tracks'][0]['album']['artists'][0]['name'])\n",
    "# # print(b['tracks'][0]['name'])\n",
    "# # print(b['tracks'][1]['album']['artists'][0]['name'])\n",
    "# # print(b['tracks'][1]['name'])\n",
    "# # print(a['items'][0]['name'])\n",
    "# # sp.playlist_add_items(a['items'][0]['id'], tracks, position=None)\n",
    "print(\"Track: \\\"\", b['tracks'][0]['name'], \"\\\" by \\\"\", b['tracks'][0]['album']['artists'][0]['name'], \"\\\" added to the playlist \\\"\", a['items'][0]['name'], \"\\\"\")\n",
    "print(\"Track: \\\"\", b['tracks'][1]['name'], \"\\\" by \\\"\", b['tracks'][1]['album']['artists'][0]['name'], \"\\\" added to the playlist \\\"\", a['items'][0]['name'], \"\\\"\")\n",
    "# # aaa = sp.playlist_cover_image(a['items'][0]['id'])"
   ]
  },
  {
   "cell_type": "code",
   "execution_count": null,
   "metadata": {},
   "outputs": [],
   "source": []
  }
 ],
 "metadata": {
  "kernelspec": {
   "display_name": "Python 3",
   "language": "python",
   "name": "python3"
  },
  "language_info": {
   "codemirror_mode": {
    "name": "ipython",
    "version": 3
   },
   "file_extension": ".py",
   "mimetype": "text/x-python",
   "name": "python",
   "nbconvert_exporter": "python",
   "pygments_lexer": "ipython3",
   "version": "3.7.6"
  }
 },
 "nbformat": 4,
 "nbformat_minor": 4
}
