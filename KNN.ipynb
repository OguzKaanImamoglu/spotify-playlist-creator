{
 "cells": [
  {
   "cell_type": "code",
   "execution_count": 21,
   "metadata": {},
   "outputs": [],
   "source": [
    "import spotipy\n",
    "import spotipy.util as util\n",
    "from spotipy.oauth2 import SpotifyClientCredentials\n",
    "from spotipy.oauth2 import SpotifyOAuth\n",
    "from spotipy import oauth2\n",
    "import csv\n",
    "import numpy as np\n",
    "from sklearn.pipeline import make_pipeline\n",
    "from sklearn.neighbors import NearestNeighbors\n",
    "from sklearn.preprocessing import StandardScaler\n",
    "import base64"
   ]
  },
  {
   "cell_type": "code",
   "execution_count": 22,
   "metadata": {},
   "outputs": [],
   "source": [
    "def get_credentials():\n",
    "    cid = '8c4cb3ef1c0c412181ea69d07b3df0ca'\n",
    "    secret = 'a07e05c762a24e12933c4c118c6c18ca'\n",
    "    redirect_uri = 'http://localhost:8910/callback'\n",
    "    username = 'Arda Akça Büyük'\n",
    "    return cid, secret, redirect_uri, username"
   ]
  },
  {
   "cell_type": "code",
   "execution_count": 23,
   "metadata": {},
   "outputs": [],
   "source": [
    "def read_data(dataset_path):\n",
    "    with open(dataset_path, 'r') as token_file:\n",
    "        lines = csv.reader(token_file)\n",
    "        dataset = list(lines)\n",
    "        data = np.array(dataset)   \n",
    "        return data"
   ]
  },
  {
   "cell_type": "code",
   "execution_count": 24,
   "metadata": {},
   "outputs": [],
   "source": [
    "class KNNPredictor:\n",
    "    def __init__(self, data):\n",
    "        self.data = data\n",
    "        self.preprocessing()\n",
    "        self.train()\n",
    "    \n",
    "    def preprocessing(self):\n",
    "        indices = []\n",
    "        self.id_index = -1\n",
    "        info = []\n",
    "        choose = -1\n",
    "        for i in range(self.data.shape[1]):\n",
    "            if self.data[0][i] in ['key', 'artists', 'release_date', 'name', 'id']:\n",
    "                indices.append(i)\n",
    "                if self.data[0][i] == 'id':\n",
    "                    self.id_index = i\n",
    "\n",
    "            if self.data[0][i] in ['artists', 'name']:\n",
    "                info.append(i)\n",
    "\n",
    "\n",
    "        self.data = self.data[1:,:]\n",
    "        np.random.shuffle(self.data)\n",
    "        self.ids = np.array(self.data[:,self.id_index:self.id_index+1])\n",
    "        song_info = np.array(self.data[:,info])\n",
    "        self.data = np.delete(self.data, indices, axis=1)\n",
    "        self.ids = np.ndarray.flatten(self.ids)\n",
    "        self.data = self.data.astype('float64')\n",
    "    \n",
    "    def train(self):\n",
    "        self.model = NearestNeighbors(n_neighbors = 26, algorithm = 'ball_tree')\n",
    "        scalar = StandardScaler()\n",
    "        scalar.fit(self.data)\n",
    "        self.data = scalar.transform(self.data)\n",
    "        self.model.fit(self.data)\n",
    "    \n",
    "    def predict(self, song_id):\n",
    "        for j in range(self.data.shape[0]):\n",
    "            if self.ids[j] == song_id:\n",
    "                choose = j\n",
    "        distances, indices = self.model.kneighbors([self.data[choose]])\n",
    "        indices = np.ndarray.flatten(indices[:,1:])\n",
    "        tracks = self.ids[indices]\n",
    "        return tracks"
   ]
  },
  {
   "cell_type": "code",
   "execution_count": 34,
   "metadata": {},
   "outputs": [],
   "source": [
    "def create_playlist(playlist_name, tracks, username, client_id, client_secret, redirect_uri):\n",
    "    scope = \"playlist-modify-public\"\n",
    "    token = util.prompt_for_user_token(username,scope,client_id=client_id,client_secret=client_secret,redirect_uri=redirect_uri) \n",
    "    sp = spotipy.Spotify(auth=token)\n",
    "    sp.user_playlist_create(username, name=playlist_name)\n",
    "    playlists = sp.user_playlists(username)\n",
    "    tracks = np.ndarray.flatten(tracks)\n",
    "    tracks = list(tracks)\n",
    "    sp.user_playlist_add_tracks(username, playlists['items'][0]['id'], tracks)"
   ]
  },
  {
   "cell_type": "code",
   "execution_count": 35,
   "metadata": {},
   "outputs": [],
   "source": [
    "def main():\n",
    "    cid, secret, redirect_uri, username = get_credentials()\n",
    "    data = read_data('./data/data.csv')\n",
    "    predictor = KNNPredictor(data)\n",
    "    song_id = input('Enter song ID: ')\n",
    "    tracks = predictor.predict(song_id)\n",
    "    username = input('Enter username: ')\n",
    "    playlist_name = input('Enter playlist name: ')\n",
    "    create_playlist(playlist_name, tracks, username, client_id=cid, client_secret=secret, redirect_uri=redirect_uri)"
   ]
  },
  {
   "cell_type": "code",
   "execution_count": 36,
   "metadata": {},
   "outputs": [
    {
     "name": "stdout",
     "output_type": "stream",
     "text": [
      "Enter song ID: 7wBJfHzpfI3032CSD7CE2m\n",
      "Enter username: ardabyk07\n",
      "Enter playlist name: STARGAZING (kNN)\n"
     ]
    }
   ],
   "source": [
    "main()"
   ]
  }
 ],
 "metadata": {
  "kernelspec": {
   "display_name": "Python 3",
   "language": "python",
   "name": "python3"
  },
  "language_info": {
   "codemirror_mode": {
    "name": "ipython",
    "version": 3
   },
   "file_extension": ".py",
   "mimetype": "text/x-python",
   "name": "python",
   "nbconvert_exporter": "python",
   "pygments_lexer": "ipython3",
   "version": "3.7.6"
  }
 },
 "nbformat": 4,
 "nbformat_minor": 4
}
