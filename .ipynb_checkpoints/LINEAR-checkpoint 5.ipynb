{
 "cells": [
  {
   "cell_type": "code",
   "execution_count": 106,
   "metadata": {},
   "outputs": [],
   "source": [
    "import spotipy\n",
    "import spotipy.util as util\n",
    "from spotipy.oauth2 import SpotifyClientCredentials\n",
    "from spotipy.oauth2 import SpotifyOAuth\n",
    "from spotipy import oauth2\n",
    "import csv\n",
    "import numpy as np\n",
    "from sklearn.preprocessing import StandardScaler\n",
    "from sklearn.linear_model import LinearRegression\n",
    "from sklearn.neighbors import NearestNeighbors"
   ]
  },
  {
   "cell_type": "code",
   "execution_count": 107,
   "metadata": {},
   "outputs": [],
   "source": [
    "cid = '8c4cb3ef1c0c412181ea69d07b3df0ca'\n",
    "secret = 'a07e05c762a24e12933c4c118c6c18ca'\n",
    "redirect_uri = 'http://localhost:8910/callback'"
   ]
  },
  {
   "cell_type": "code",
   "execution_count": 108,
   "metadata": {},
   "outputs": [
    {
     "name": "stdout",
     "output_type": "stream",
     "text": [
      "Enter username: ardabyk07\n"
     ]
    }
   ],
   "source": [
    "username = input('Enter username: ')\n",
    "scope = 'user-top-read'\n",
    "token = util.prompt_for_user_token(username, scope, client_id=cid, client_secret=secret, redirect_uri=redirect_uri)\n",
    "\n",
    "if token:\n",
    "    sp = spotipy.Spotify(auth=token)\n",
    "else:\n",
    "    print(\"Can't get token for\", username)"
   ]
  },
  {
   "cell_type": "code",
   "execution_count": 26,
   "metadata": {},
   "outputs": [],
   "source": [
    "#results = sp.current_user_top_tracks(limit=50, offset=0, time_range='medium_term')\n",
    "results = sp.user_playlists(username)\n",
    "user_all_songs = []\n",
    "for playlist in results['items']:\n",
    "    tracks = sp.user_playlist_tracks(username, playlist['id'])['items']\n",
    "    for track in tracks:\n",
    "        user_all_songs.append(track['track']['id'])\n",
    "\n",
    "#fav_tracks = []\n",
    "#for i, items in enumerate(results['items']):\n",
    "#    fav_tracks.append(items['id'])"
   ]
  },
  {
   "cell_type": "code",
   "execution_count": 109,
   "metadata": {},
   "outputs": [],
   "source": [
    "dataset_path = \"./data/data.csv\"\n",
    "with open(dataset_path, 'r') as token_file:\n",
    "    lines = csv.reader(token_file)\n",
    "    dataset = list(lines)\n",
    "    data = np.array(dataset)"
   ]
  },
  {
   "cell_type": "code",
   "execution_count": 110,
   "metadata": {},
   "outputs": [],
   "source": [
    "indices = []\n",
    "id_index = -1\n",
    "info = []\n",
    "choose = -1\n",
    "name_index = -1\n",
    "for i in range(data.shape[1]):\n",
    "    if data[0][i] in ['key', 'artists', 'release_date', 'name']:\n",
    "        indices.append(i)\n",
    "        if data[0][i] == 'name':\n",
    "            name_index = i\n",
    "    elif data[0][i] == 'id':\n",
    "        id_index = i\n",
    "        \n",
    "    if data[0][i] in ['artists', 'name']:\n",
    "        info.append(i)"
   ]
  },
  {
   "cell_type": "code",
   "execution_count": 111,
   "metadata": {},
   "outputs": [],
   "source": [
    "data = data[1:,:]\n",
    "np.random.shuffle(data)\n",
    "ids = np.array(data[:,id_index:id_index+1])\n",
    "for j in range(data.shape[0]):\n",
    "    if data[j][name_index] == 'Mahallemiz Esmer':\n",
    "        choose = j\n",
    "    \n",
    "ids = np.ndarray.flatten(ids)\n",
    "\n",
    "song_info = np.array(data[:,info])\n",
    "indices.append(id_index)\n",
    "data = np.delete(data, indices, axis=1)"
   ]
  },
  {
   "cell_type": "code",
   "execution_count": 112,
   "metadata": {},
   "outputs": [],
   "source": [
    "data = data.astype('float64')"
   ]
  },
  {
   "cell_type": "code",
   "execution_count": 113,
   "metadata": {},
   "outputs": [],
   "source": [
    "#first obtain 5000 songs with NN\n",
    "model = NearestNeighbors(n_neighbors=5001, algorithm='ball_tree')\n",
    "scalar = StandardScaler()\n",
    "scalar.fit(data)\n",
    "data_nn = scalar.transform(data)\n",
    "model.fit(data_nn)\n",
    "distances, indices = model.kneighbors([data_nn[choose]])"
   ]
  },
  {
   "cell_type": "code",
   "execution_count": 114,
   "metadata": {},
   "outputs": [],
   "source": [
    "selected = song_info[choose]\n",
    "playlist = song_info[indices]\n",
    "playlist = playlist[:,1:,:]\n",
    "indices = np.ndarray.flatten(indices[:,1:])"
   ]
  },
  {
   "cell_type": "code",
   "execution_count": 116,
   "metadata": {},
   "outputs": [
    {
     "data": {
      "text/plain": [
       "[array([[\"['Yellowcard']\", 'Everywhere'],\n",
       "        [\"['Damageplan']\", 'Save Me'],\n",
       "        [\"['Pillar']\", 'Fireproof'],\n",
       "        ...,\n",
       "        [\"['The Black Crowes']\", 'Hard To Handle'],\n",
       "        [\"['Vicetone', 'Kat Nestel']\",\n",
       "         'Nothing Stopping Me (feat. Kat Nestel)'],\n",
       "        [\"['Chaka Khan', 'Lew Hahn']\", 'I Was Made to Love Him']],\n",
       "       dtype='<U661')]"
      ]
     },
     "execution_count": 116,
     "metadata": {},
     "output_type": "execute_result"
    }
   ],
   "source": [
    "playlist"
   ]
  },
  {
   "cell_type": "code",
   "execution_count": 117,
   "metadata": {},
   "outputs": [],
   "source": [
    "data = scalar.transform(data)"
   ]
  },
  {
   "cell_type": "code",
   "execution_count": 118,
   "metadata": {},
   "outputs": [],
   "source": [
    "tracks = ids[indices]\n",
    "tracks = np.ndarray.flatten(tracks)\n",
    "tracks = list(tracks)"
   ]
  },
  {
   "cell_type": "code",
   "execution_count": 119,
   "metadata": {},
   "outputs": [],
   "source": [
    "song_train = []\n",
    "found_id = []\n",
    "\n",
    "tracks_numpy = np.array(tracks)\n",
    "ids_numpy = np.array(ids)\n",
    "\n",
    "found_indices = np.where(np.in1d(ids_numpy, tracks_numpy))[0]\n",
    "found_id = ids[found_indices]\n",
    "song_train = data[found_indices]\n",
    "#for track_id in tracks:\n",
    "    #for i, dataset_id in enumerate(ids):\n",
    "        #if track_id == dataset_id:\n",
    "            #song_train.append(data[i])\n",
    "            #found_id.append(track_id)"
   ]
  },
  {
   "cell_type": "code",
   "execution_count": 120,
   "metadata": {},
   "outputs": [],
   "source": [
    "relevances = []\n",
    "relevance = 100\n",
    "for i, track_id in enumerate(found_id):\n",
    "    relevances.append(relevance)\n",
    "    relevance -= 0.0006"
   ]
  },
  {
   "cell_type": "code",
   "execution_count": 121,
   "metadata": {},
   "outputs": [],
   "source": [
    "reg = LinearRegression().fit(song_train, relevances)\n",
    "#for i, track in enumerate(data):\n",
    "    #if not ids[i] in found_id:\n",
    "        #predictions.append((reg.predict([track]), ids[i], song_info[i]))\n",
    "predictions = reg.predict(data)\n",
    "predicted = np.c_[predictions, song_info]"
   ]
  },
  {
   "cell_type": "code",
   "execution_count": null,
   "metadata": {},
   "outputs": [],
   "source": [
    "predicted = predicted[predicted[:,0].argsort()][::-1]"
   ]
  },
  {
   "cell_type": "code",
   "execution_count": null,
   "metadata": {},
   "outputs": [],
   "source": [
    "list(predicted)"
   ]
  },
  {
   "cell_type": "code",
   "execution_count": null,
   "metadata": {},
   "outputs": [],
   "source": [
    "playlist_added = ids[predictions.argsort()][::-1][:100]"
   ]
  },
  {
   "cell_type": "code",
   "execution_count": 105,
   "metadata": {},
   "outputs": [
    {
     "name": "stdout",
     "output_type": "stream",
     "text": [
      "Enter username:ardabyk07\n"
     ]
    },
    {
     "data": {
      "text/plain": [
       "{'snapshot_id': 'MixlZTA3NTVkNjhiN2M0OGE2NzBmNGE3OTQ0MzE3NDFmOTM4OTQ0NGEw'}"
      ]
     },
     "execution_count": 105,
     "metadata": {},
     "output_type": "execute_result"
    }
   ],
   "source": [
    "playlist_name = \"CS464 - Term Project (LINEAR REGRESSION)\"\n",
    "scope = \"playlist-modify-public\"\n",
    "username = input('Enter username:')\n",
    "token = util.prompt_for_user_token(username,scope,client_id=cid,client_secret=secret,redirect_uri=redirect_uri) \n",
    "sp = spotipy.Spotify(auth=token)\n",
    "sp.user_playlist_create(username, name=playlist_name)\n",
    "playlists = sp.user_playlists(username)\n",
    "sp.user_playlist_add_tracks(username, playlists['items'][0]['id'], list(playlist_added))"
   ]
  },
  {
   "cell_type": "code",
   "execution_count": null,
   "metadata": {},
   "outputs": [],
   "source": []
  }
 ],
 "metadata": {
  "kernelspec": {
   "display_name": "Python 3",
   "language": "python",
   "name": "python3"
  },
  "language_info": {
   "codemirror_mode": {
    "name": "ipython",
    "version": 3
   },
   "file_extension": ".py",
   "mimetype": "text/x-python",
   "name": "python",
   "nbconvert_exporter": "python",
   "pygments_lexer": "ipython3",
   "version": "3.7.6"
  }
 },
 "nbformat": 4,
 "nbformat_minor": 4
}
