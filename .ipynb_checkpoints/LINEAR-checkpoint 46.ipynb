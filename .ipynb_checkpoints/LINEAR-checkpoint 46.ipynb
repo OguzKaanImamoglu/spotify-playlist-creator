{
 "cells": [
  {
   "cell_type": "code",
   "execution_count": 1,
   "metadata": {},
   "outputs": [],
   "source": [
    "import spotipy\n",
    "import spotipy.util as util\n",
    "from spotipy.oauth2 import SpotifyClientCredentials\n",
    "from spotipy.oauth2 import SpotifyOAuth\n",
    "from spotipy import oauth2\n",
    "import csv\n",
    "import numpy as np\n",
    "from sklearn.preprocessing import StandardScaler\n",
    "from sklearn.linear_model import LinearRegression\n",
    "from sklearn.neighbors import NearestNeighbors\n",
    "import pandas as pd"
   ]
  },
  {
   "cell_type": "code",
   "execution_count": 2,
   "metadata": {},
   "outputs": [],
   "source": [
    "cid = '8c4cb3ef1c0c412181ea69d07b3df0ca'\n",
    "secret = 'a07e05c762a24e12933c4c118c6c18ca'\n",
    "redirect_uri = 'http://localhost:8910/callback'"
   ]
  },
  {
   "cell_type": "code",
   "execution_count": 3,
   "metadata": {},
   "outputs": [
    {
     "name": "stdout",
     "output_type": "stream",
     "text": [
      "Enter username: ardabyk07\n"
     ]
    }
   ],
   "source": [
    "username = input('Enter username: ')\n",
    "scope = 'user-top-read'\n",
    "token = util.prompt_for_user_token(username, scope, client_id=cid, client_secret=secret, redirect_uri=redirect_uri)\n",
    "\n",
    "if token:\n",
    "    sp = spotipy.Spotify(auth=token)\n",
    "else:\n",
    "    print(\"Can't get token for\", username)"
   ]
  },
  {
   "cell_type": "code",
   "execution_count": 4,
   "metadata": {},
   "outputs": [],
   "source": [
    "dataset_path = \"./data/data.csv\"\n",
    "with open(dataset_path, 'r') as token_file:\n",
    "    lines = csv.reader(token_file)\n",
    "    dataset = list(lines)\n",
    "    data = np.array(dataset)"
   ]
  },
  {
   "cell_type": "code",
   "execution_count": 5,
   "metadata": {},
   "outputs": [],
   "source": [
    "indices = []\n",
    "id_index = -1\n",
    "info = []\n",
    "choose = -1\n",
    "name_index = -1\n",
    "artist_index = -1\n",
    "for i in range(data.shape[1]):\n",
    "    if data[0][i] in ['key', 'artists', 'release_date', 'name']:\n",
    "        indices.append(i)\n",
    "        if data[0][i] == 'name':\n",
    "            name_index = i\n",
    "        if data[0][i] == 'artists':\n",
    "            artist_index = i\n",
    "    elif data[0][i] == 'id':\n",
    "        id_index = i\n",
    "        \n",
    "    if data[0][i] in ['artists', 'name']:\n",
    "        info.append(i)"
   ]
  },
  {
   "cell_type": "code",
   "execution_count": 6,
   "metadata": {},
   "outputs": [
    {
     "ename": "TypeError",
     "evalue": "unsupported operand type(s) for &: 'str' and 'str'",
     "output_type": "error",
     "traceback": [
      "\u001b[0;31m---------------------------------------------------------------------------\u001b[0m",
      "\u001b[0;31mTypeError\u001b[0m                                 Traceback (most recent call last)",
      "\u001b[0;32m<ipython-input-6-a53e24c6ffca>\u001b[0m in \u001b[0;36m<module>\u001b[0;34m\u001b[0m\n\u001b[1;32m      3\u001b[0m \u001b[0mids\u001b[0m \u001b[0;34m=\u001b[0m \u001b[0mnp\u001b[0m\u001b[0;34m.\u001b[0m\u001b[0marray\u001b[0m\u001b[0;34m(\u001b[0m\u001b[0mdata\u001b[0m\u001b[0;34m[\u001b[0m\u001b[0;34m:\u001b[0m\u001b[0;34m,\u001b[0m\u001b[0mid_index\u001b[0m\u001b[0;34m:\u001b[0m\u001b[0mid_index\u001b[0m\u001b[0;34m+\u001b[0m\u001b[0;36m1\u001b[0m\u001b[0;34m]\u001b[0m\u001b[0;34m)\u001b[0m\u001b[0;34m\u001b[0m\u001b[0;34m\u001b[0m\u001b[0m\n\u001b[1;32m      4\u001b[0m \u001b[0;32mfor\u001b[0m \u001b[0mj\u001b[0m \u001b[0;32min\u001b[0m \u001b[0mrange\u001b[0m\u001b[0;34m(\u001b[0m\u001b[0mdata\u001b[0m\u001b[0;34m.\u001b[0m\u001b[0mshape\u001b[0m\u001b[0;34m[\u001b[0m\u001b[0;36m0\u001b[0m\u001b[0;34m]\u001b[0m\u001b[0;34m)\u001b[0m\u001b[0;34m:\u001b[0m\u001b[0;34m\u001b[0m\u001b[0;34m\u001b[0m\u001b[0m\n\u001b[0;32m----> 5\u001b[0;31m     \u001b[0;32mif\u001b[0m \u001b[0mdata\u001b[0m\u001b[0;34m[\u001b[0m\u001b[0mj\u001b[0m\u001b[0;34m]\u001b[0m\u001b[0;34m[\u001b[0m\u001b[0mname_index\u001b[0m\u001b[0;34m]\u001b[0m \u001b[0;34m==\u001b[0m \u001b[0;34m'Nothing Else Matters'\u001b[0m \u001b[0;34m&\u001b[0m \u001b[0mdata\u001b[0m\u001b[0;34m[\u001b[0m\u001b[0mj\u001b[0m\u001b[0;34m]\u001b[0m\u001b[0;34m[\u001b[0m\u001b[0martist_index\u001b[0m\u001b[0;34m]\u001b[0m\u001b[0;34m[\u001b[0m\u001b[0;36m0\u001b[0m\u001b[0;34m]\u001b[0m \u001b[0;34m==\u001b[0m \u001b[0;34m'Metallica'\u001b[0m\u001b[0;34m:\u001b[0m\u001b[0;34m\u001b[0m\u001b[0;34m\u001b[0m\u001b[0m\n\u001b[0m\u001b[1;32m      6\u001b[0m         \u001b[0mchoose\u001b[0m \u001b[0;34m=\u001b[0m \u001b[0mj\u001b[0m\u001b[0;34m\u001b[0m\u001b[0;34m\u001b[0m\u001b[0m\n\u001b[1;32m      7\u001b[0m \u001b[0;34m\u001b[0m\u001b[0m\n",
      "\u001b[0;31mTypeError\u001b[0m: unsupported operand type(s) for &: 'str' and 'str'"
     ]
    }
   ],
   "source": [
    "data = data[1:,:]\n",
    "np.random.shuffle(data)\n",
    "ids = np.array(data[:,id_index:id_index+1])\n",
    "for j in range(data.shape[0]):\n",
    "    if data[j][name_index] == 'Nothing Else Matters' and data[j][artist_index][0] == 'Metallica':\n",
    "        choose = j\n",
    "    \n",
    "ids = np.ndarray.flatten(ids)\n",
    "\n",
    "song_info = np.array(data[:,info])\n",
    "indices.append(id_index)\n",
    "data = np.delete(data, indices, axis=1)"
   ]
  },
  {
   "cell_type": "code",
   "execution_count": null,
   "metadata": {},
   "outputs": [],
   "source": [
    "song_info[choose]"
   ]
  },
  {
   "cell_type": "code",
   "execution_count": null,
   "metadata": {},
   "outputs": [],
   "source": [
    "choose"
   ]
  },
  {
   "cell_type": "code",
   "execution_count": null,
   "metadata": {},
   "outputs": [],
   "source": [
    "data = data.astype('float64')"
   ]
  },
  {
   "cell_type": "code",
   "execution_count": null,
   "metadata": {},
   "outputs": [],
   "source": [
    "#first obtain 5000 songs with NN\n",
    "model = NearestNeighbors(n_neighbors=5001, algorithm='ball_tree')\n",
    "scalar = StandardScaler()\n",
    "scalar.fit(data)\n",
    "data_nn = scalar.transform(data)\n",
    "model.fit(data_nn)\n",
    "distances, indices = model.kneighbors([data_nn[choose]])"
   ]
  },
  {
   "cell_type": "code",
   "execution_count": null,
   "metadata": {},
   "outputs": [],
   "source": [
    "selected = song_info[choose]\n",
    "playlist = song_info[indices]\n",
    "playlist = playlist[:,1:,:]\n",
    "indices = np.ndarray.flatten(indices[:,1:])"
   ]
  },
  {
   "cell_type": "code",
   "execution_count": null,
   "metadata": {},
   "outputs": [],
   "source": [
    "playlist"
   ]
  },
  {
   "cell_type": "code",
   "execution_count": null,
   "metadata": {},
   "outputs": [],
   "source": [
    "data = scalar.transform(data)"
   ]
  },
  {
   "cell_type": "code",
   "execution_count": null,
   "metadata": {},
   "outputs": [],
   "source": [
    "tracks = ids[indices]\n",
    "tracks = np.ndarray.flatten(tracks)\n",
    "#tracks = list(tracks)"
   ]
  },
  {
   "cell_type": "code",
   "execution_count": null,
   "metadata": {},
   "outputs": [],
   "source": [
    "#song_train = []\n",
    "#found_id = []\n",
    "\n",
    "tracks_numpy = np.array(tracks)\n",
    "\n",
    "#found_indices = np.where(np.in1d(ids, tracks_numpy))[0]\n",
    "#found_id = ids[found_indices]\n",
    "song_train = data[indices]\n",
    "#for track_id in tracks:\n",
    "    #for i, dataset_id in enumerate(ids):\n",
    "        #if track_id == dataset_id:\n",
    "            #song_train.append(data[i])\n",
    "            #found_id.append(track_id)"
   ]
  },
  {
   "cell_type": "code",
   "execution_count": null,
   "metadata": {},
   "outputs": [],
   "source": [
    "list(song_info[indices])"
   ]
  },
  {
   "cell_type": "code",
   "execution_count": null,
   "metadata": {},
   "outputs": [],
   "source": [
    "relevances = []\n",
    "threshold = 100\n",
    "relevance = threshold\n",
    "for i, _ in enumerate(tracks):\n",
    "    relevances.append(relevance)\n",
    "    relevance -= 0.0006"
   ]
  },
  {
   "cell_type": "code",
   "execution_count": null,
   "metadata": {},
   "outputs": [],
   "source": [
    "relevances"
   ]
  },
  {
   "cell_type": "code",
   "execution_count": null,
   "metadata": {},
   "outputs": [],
   "source": [
    "reg = LinearRegression().fit(song_train, relevances)\n",
    "#for i, track in enumerate(data):\n",
    "    #if not ids[i] in found_id:\n",
    "        #predictions.append((reg.predict([track]), ids[i], song_info[i]))\n",
    "predictions = reg.predict(data)\n",
    "predicted = np.column_stack((predictions, song_info[:,0], song_info[:,1]))"
   ]
  },
  {
   "cell_type": "code",
   "execution_count": null,
   "metadata": {},
   "outputs": [],
   "source": [
    "sort_indices = np.argsort(predictions)[::-1]"
   ]
  },
  {
   "cell_type": "code",
   "execution_count": null,
   "metadata": {},
   "outputs": [],
   "source": [
    "predictions = np.array(predictions)\n",
    "predictions = predictions.astype('float64')\n",
    "predictions = predictions[sort_indices]"
   ]
  },
  {
   "cell_type": "code",
   "execution_count": null,
   "metadata": {},
   "outputs": [],
   "source": [
    "predictions.shape[0]"
   ]
  },
  {
   "cell_type": "code",
   "execution_count": null,
   "metadata": {},
   "outputs": [],
   "source": [
    "predicted = predicted[sort_indices]"
   ]
  },
  {
   "cell_type": "code",
   "execution_count": null,
   "metadata": {},
   "outputs": [],
   "source": [
    "list(predicted)"
   ]
  },
  {
   "cell_type": "code",
   "execution_count": null,
   "metadata": {},
   "outputs": [],
   "source": [
    "first_threshold_index = 0\n",
    "for i in range(predictions.shape[0]):\n",
    "    if predictions[i] <= threshold:\n",
    "        first_threshold_index = i\n",
    "        break\n",
    "print(first_threshold_index)\n",
    "playlist_added = ids[sort_indices][first_threshold_index:first_threshold_index+100]"
   ]
  },
  {
   "cell_type": "code",
   "execution_count": null,
   "metadata": {},
   "outputs": [],
   "source": [
    "playlist_name = \"CS464 - Term Project (LINEAR REGRESSION)\"\n",
    "scope = \"playlist-modify-public\"\n",
    "username = input('Enter username:')\n",
    "token = util.prompt_for_user_token(username,scope,client_id=cid,client_secret=secret,redirect_uri=redirect_uri) \n",
    "sp = spotipy.Spotify(auth=token)\n",
    "sp.user_playlist_create(username, name=playlist_name)\n",
    "playlists = sp.user_playlists(username)\n",
    "sp.user_playlist_add_tracks(username, playlists['items'][0]['id'], list(playlist_added))"
   ]
  },
  {
   "cell_type": "code",
   "execution_count": null,
   "metadata": {},
   "outputs": [],
   "source": []
  }
 ],
 "metadata": {
  "kernelspec": {
   "display_name": "Python 3",
   "language": "python",
   "name": "python3"
  },
  "language_info": {
   "codemirror_mode": {
    "name": "ipython",
    "version": 3
   },
   "file_extension": ".py",
   "mimetype": "text/x-python",
   "name": "python",
   "nbconvert_exporter": "python",
   "pygments_lexer": "ipython3",
   "version": "3.7.6"
  }
 },
 "nbformat": 4,
 "nbformat_minor": 4
}
